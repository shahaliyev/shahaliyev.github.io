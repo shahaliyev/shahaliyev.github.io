{
  "nbformat": 4,
  "nbformat_minor": 0,
  "metadata": {
    "colab": {
      "provenance": []
    },
    "kernelspec": {
      "name": "python3",
      "display_name": "Python 3"
    },
    "language_info": {
      "name": "python"
    }
  },
  "cells": [
    {
      "cell_type": "markdown",
      "source": [
        "# Introduction to Web Scraping"
      ],
      "metadata": {
        "id": "Zf8MO75ZqVDb"
      }
    },
    {
      "cell_type": "markdown",
      "source": [
        "---\n",
        "\n",
        "Source: https://shahaliyev.org//writings/web-scraping\n",
        "\n",
        "The following material was initially prepared as a lecture for <strong>ENCE 3503: Data & Information Engineering (Fall 2024)</strong> course at ADA University.\n",
        "\n",
        "---"
      ],
      "metadata": {
        "id": "AgVIHrEqqe1_"
      }
    },
    {
      "cell_type": "markdown",
      "source": [
        "Data we wish to work with are rarely available (e.g. as a `.csv` file) suiting our needs. Often we need to be proactive and obtain data ourselves. We have vast amount of web resources for that, however, manually retrieving data is a slow and not scalable process. Therefore, the automation of this task called **web scraping** will be handy in many situations."
      ],
      "metadata": {
        "id": "K432lsKQqxZf"
      }
    },
    {
      "cell_type": "markdown",
      "source": [
        "## Ethical Considerations\n",
        "\n",
        "- **Respect for Privacy.** Not collecting sensitive information without consent.\n",
        "- **Website Performance.** Web scraping can overload website's servers, affecting its performance.\n",
        "- **Transparency and Accountability.** Being open with web scraping methods and purposes can mitigate concerns from website owners/users.\n",
        "\n",
        "## Legal Considerations\n",
        "\n",
        "- **Terms of Service Violation.** Some websites have ToS which prohibit web scraping, making it illegal by law.\n",
        "- **Copyright Infingement.** Scraping copyrighted data may also lead to legal repercussions.\n",
        "- **Privacy Laws.** Scraping personal and sensitive data can violate privacy regulations of different governments.\n",
        "- **Unauthorized Access.** Scraping data from not publicly available websites is basically digital trespassing and can lead to legal consequences.\n",
        "\n",
        "### Case Studies\n",
        "\n",
        "- [hiQ Labs v. LinkedIn](https://en.wikipedia.org/wiki/HiQ_Labs_v._LinkedIn)\n",
        "- [Facebook v. Power Ventures](https://en.wikipedia.org/wiki/Facebook,_Inc._v._Power_Ventures,_Inc.)\n",
        "- [EBay v. Bidder's Edge](https://en.wikipedia.org/wiki/EBay_v._Bidder%27s_Edge)\n",
        "\n",
        "## Web Scraping Best Practices\n",
        "\n",
        "- Read and understand **Terms of Services**.\n",
        "- Use official **APIs** if available.\n",
        "- Follow **`robots.txt`** file if available in order to not access restricted pages.\n",
        "- Get consent for using **personal/sensitive data**.\n",
        "- Scrape only **necessary data** and not burden website.\n",
        "\n",
        "> A quick article, [Ethics in Web Scraping](https://towardsdatascience.com/ethics-in-web-scraping-b96b18136f01) by James Densmore is worth reading."
      ],
      "metadata": {
        "id": "H7umsm9bqrL_"
      }
    },
    {
      "cell_type": "markdown",
      "source": [
        "## Public API & Access Token\n",
        "\n",
        "Many social media websites usually provide their own API for scraping data (and not only). For example, you can \"programmatically query data, post new stories, manage ads, upload photos, and perform a wide variety of other tasks\" with Facebook's [Graph API](https://developers.facebook.com/docs/graph-api/).\n",
        "\n",
        "[Kaggle](https://www.kaggle.com/docs/api) also provides its own public API. For authentication, you need to get _access token_ from the [account settings](https://www.kaggle.com/settings) which will generate a `kaggle.json` file. After you download the file, you can use its content as a dictionary to set environment variables for Python to use."
      ],
      "metadata": {
        "id": "Own1dV-9rCkg"
      }
    },
    {
      "cell_type": "code",
      "source": [
        "# kaggle.json\n",
        "token = {\n",
        "    \"username\":\"YOUR_KAGGLE_USERNAME\", # update it\n",
        "    \"key\":\"YOUR_KAGGLE_KEY\" # update it\n",
        "}"
      ],
      "metadata": {
        "id": "_LPn6LxPrEqo"
      },
      "execution_count": null,
      "outputs": []
    },
    {
      "cell_type": "code",
      "source": [
        "import os\n",
        "\n",
        "os.environ[\"KAGGLE_USERNAME\"] = token[\"username\"]\n",
        "os.environ[\"KAGGLE_KEY\"] = token[\"key\"]"
      ],
      "metadata": {
        "id": "lX-fIouqrG3D"
      },
      "execution_count": null,
      "outputs": []
    },
    {
      "cell_type": "markdown",
      "source": [
        "The token is set and we can connect to Kaggle API now. We will install kaggle library and call some API commands."
      ],
      "metadata": {
        "id": "UJOZ2l7UrLnD"
      }
    },
    {
      "cell_type": "code",
      "source": [
        "!pip install kaggle"
      ],
      "metadata": {
        "id": "Ii4QmkNgrS4z"
      },
      "execution_count": null,
      "outputs": []
    },
    {
      "cell_type": "code",
      "source": [
        "!kaggle competitions list"
      ],
      "metadata": {
        "id": "-lTxSDFJrXFD"
      },
      "execution_count": null,
      "outputs": []
    },
    {
      "cell_type": "markdown",
      "source": [
        "We can download the datasets with:\n",
        "\n",
        "```sh\n",
        "kaggle datasets download -d DATASET_PATH\n",
        "```\n",
        "\n",
        "where `DATASET_PATH` is a part of the URL coming after `kaggle.com/datasets`. Full documentation can also be found in [Kaggle's Github Repository](https://github.com/Kaggle/kaggle-api)."
      ],
      "metadata": {
        "id": "LuC1fWJLrbuT"
      }
    },
    {
      "cell_type": "markdown",
      "source": [
        "## User Agent & Robots.txt\n",
        "\n",
        "**User Agent** is a string that a client (e.g. web browser) sends to a web server to identify itself. It can contain information about browser, operating system, device type. User agents help servers recognize the type of client and adjust responses if needed (e.g. serve different content to a mobile browser). You can think of user agents as being the opposite of access token (access token is provided to us by the API, whilst it is us who provides the user agent string to the server in order to keep transparency). It may look like this:\n",
        "\n",
        "```\n",
        "Mozilla/5.0 (Windows NT 10.0; Win64; x64) AppleWebKit/537.36 (KHTML, like Gecko) Chrome/91.0.4472.124 Safari/537.36\n",
        "```\n",
        "\n",
        "Or if it is [Google bot](https://developers.google.com/search/docs/crawling-indexing/googlebot?visit_id=638656404511646209-1563373226&rd=1) crawler, like this:\n",
        "\n",
        "```\n",
        "Googlebot/2.1 (+http://www.google.com/bot.html)\n",
        "```\n",
        "\n",
        "**`Robots.txt`** is a file placed in the root directory of a website (e.g. `example.com/robots.txt`) which has instructions to web crawlers about which web pages they can access. Try to understand what `robots.txt` file instructs below:\n",
        "\n",
        "```sh\n",
        "User-agent: Googlebot\n",
        "Disallow: /private/\n",
        "\n",
        "User-agent: *\n",
        "Disallow: /temp/\n",
        "```\n",
        "\n",
        "How to see `robots.txt` file content of any website?"
      ],
      "metadata": {
        "id": "kXqPHIForlfa"
      }
    },
    {
      "cell_type": "code",
      "source": [
        "import os\n",
        "import requests\n",
        "\n",
        "url = \"https://shahaliyev.org\"\n",
        "response = requests.get(os.path.join(url, \"robots.txt\"))\n",
        "print(response.text)"
      ],
      "metadata": {
        "id": "GwzitEMErpQi"
      },
      "execution_count": null,
      "outputs": []
    },
    {
      "cell_type": "markdown",
      "source": [
        "## Web Scraping in Python\n",
        "\n",
        "The main Python libraries to be aware of for web scraping are `BeautifulSoup` and `requests` / `urllib` `(urllib2)`."
      ],
      "metadata": {
        "id": "ic_dZpmKrs3b"
      }
    },
    {
      "cell_type": "code",
      "source": [
        "from bs4 import BeautifulSoup\n",
        "from urllib.parse import urlparse, urljoin\n",
        "from urllib.robotparser import RobotFileParser\n",
        "from urllib.request import Request, urlopen"
      ],
      "metadata": {
        "id": "1tvmTGkPrvBy"
      },
      "execution_count": null,
      "outputs": []
    },
    {
      "cell_type": "markdown",
      "source": [
        "We can write a Python function which will check if we can scrape the web page or not based on our user agent string."
      ],
      "metadata": {
        "id": "3KJij0gYrxYz"
      }
    },
    {
      "cell_type": "code",
      "source": [
        "def can_scrape(url, user_agent='*'):\n",
        "  \"\"\"\n",
        "  Checks whether a specific URL can be scraped according to the\n",
        "  rules defined in the site's robots.txt file.\n",
        "\n",
        "  Parameters:\n",
        "    url (str): URL path to check with scheme (e.g., 'http', 'https')\n",
        "    user_agent (str): The user agent string for robots.txt.\n",
        "                      Defaults to * which is generic user agent.\n",
        "\n",
        "  Returns:\n",
        "    bool: True if the specified user agent is allowed to scrape the URL.\n",
        "\n",
        "  Example:\n",
        "      can_scrape(\"https://www.example.com/path/to/resource\", \"MyScraper/1.0\")\n",
        "  \"\"\"\n",
        "\n",
        "  parsed_url = urlparse(url)\n",
        "  base_url = f\"{parsed_url.scheme}://{parsed_url.netloc}\"\n",
        "  robots_url = urljoin(base_url, \"/robots.txt\")\n",
        "\n",
        "  rp = RobotFileParser()\n",
        "  rp.set_url(robots_url)\n",
        "  rp.read()\n",
        "\n",
        "  return rp.can_fetch(user_agent, url)"
      ],
      "metadata": {
        "id": "XxoVwUwXsbRc"
      },
      "execution_count": null,
      "outputs": []
    },
    {
      "cell_type": "markdown",
      "source": [
        "## Understanding Web Page Structure\n",
        "\n",
        "Once we read ToS and consider `robots.txt`, we can start scraping allowed web pages. The knowledge of basic web page content (generally `html`) structure is essential for that. On a browser you can right click and `inspect` the web page.\n",
        "\n",
        "![HTML Structure of a web page for web scraping](https://shahaliyev.org/assets/img/html-content.png)\n",
        "\n",
        "From inspection, we can see that each post title, link, as well as date are inside `writing` class. We can get the list of all html elements of the same class with the help of `find_all()` function of `BeautifulSoup`."
      ],
      "metadata": {
        "id": "OeiCHUqksgS8"
      }
    },
    {
      "cell_type": "code",
      "source": [
        "url = \"https://shahaliyev.org/writings.html\"\n",
        "\n",
        "with urlopen(url) as response:\n",
        "    html = response.read()\n",
        "\n",
        "soup = BeautifulSoup(html, 'html.parser')\n",
        "\n",
        "post_list = soup.find_all(class_='writing')\n",
        "post_list[0]"
      ],
      "metadata": {
        "id": "PZaOiw4ssiCz"
      },
      "execution_count": null,
      "outputs": []
    },
    {
      "cell_type": "markdown",
      "source": [
        "The function below is overkill for our purposes and will work only for two urls, `https://shahaliyev.org/writings.html` and `https://shahaliyev.org/az/writings.html`. However, it is possible to easily modify the function to suit your purposes and scrape many similiarly structured urls of a large website (e.g. category pages of a news website)."
      ],
      "metadata": {
        "id": "tRyedGfMsj4j"
      }
    },
    {
      "cell_type": "code",
      "source": [
        "import pandas as pd\n",
        "\n",
        "def scrape_writings(url, user_agent=\"*\", count=5):\n",
        "    \"\"\"\n",
        "    Args:\n",
        "        url (str): The URL of the writings page to scrape.\n",
        "        user_agent (str): The user agent string to be used for making requests.\n",
        "                          Default is \"*\" (generic user agent).\n",
        "        count (int): The number of writings to scrape from the page. Default is 5.\n",
        "\n",
        "    Returns:\n",
        "        pandas.DataFrame: A DataFrame containing the titles, dates, and links.\n",
        "\n",
        "    Notes:\n",
        "        The function assumes that the:\n",
        "          - links are stored in `<a>` tag.\n",
        "          - writings are stored in `<div class=\"writing\">`\n",
        "          - titles are stored within `<a class=\"post-link\">`\n",
        "          - dates are stored in `<time class=\"post-date\">` elements.\n",
        "\n",
        "    Raises:\n",
        "        Exception: Any network or parsing errors will raise an exception if encountered.\n",
        "                   None will be returned.\n",
        "    \"\"\"\n",
        "\n",
        "    if not can_scrape(url, user_agent=user_agent):\n",
        "        print(f\"Scraping not allowed for {url}\")\n",
        "        return\n",
        "\n",
        "    try:\n",
        "        request = Request(url, headers={\"User-Agent\": user_agent})\n",
        "        with urlopen(request) as response:\n",
        "            html = response.read()\n",
        "\n",
        "        soup = BeautifulSoup(html, 'html.parser')\n",
        "        parsed_url = urlparse(url)\n",
        "        base_url = f\"{parsed_url.scheme}://{parsed_url.netloc}\"\n",
        "\n",
        "        data = {\n",
        "            \"title\": [],\n",
        "            \"date\": [],\n",
        "            \"link\": [],\n",
        "        }\n",
        "\n",
        "        writings = soup.find_all(class_='writing')\n",
        "\n",
        "        for writing in writings[:count]:\n",
        "            title = writing.find('a', class_='post-link')\n",
        "            date = writing.find('time', class_='post-date')\n",
        "            link = title if title else writing.find('a', href=True)\n",
        "\n",
        "            title = title.text.strip() if title else pd.NA\n",
        "            date = date['datetime'].strip() if date else pd.NA\n",
        "            link = urljoin(base_url, link['href']) if link else pd.NA\n",
        "\n",
        "            data[\"title\"].append(title)\n",
        "            data[\"date\"].append(date)\n",
        "            data[\"link\"].append(link)\n",
        "\n",
        "        return pd.DataFrame(data)\n",
        "\n",
        "    except Exception as e:\n",
        "        print(f\"Error scraping the URL {url}: {e}\")\n",
        "        return None"
      ],
      "metadata": {
        "id": "GAlBBYBMsmpc"
      },
      "execution_count": null,
      "outputs": []
    },
    {
      "cell_type": "markdown",
      "source": [
        "As the reference link is relative, we need to extract the base url. In our case, scheme of URL will be `https`, and network location part of URL will be `shahaliyev.org`. The rest of the links will be appended to this base url.\n",
        "\n",
        "\n",
        "\n",
        "\n",
        "\n",
        "\n"
      ],
      "metadata": {
        "id": "UEbIQUrnqQbg"
      }
    }
  ]
}