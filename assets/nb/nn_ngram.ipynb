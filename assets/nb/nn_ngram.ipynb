{
  "nbformat": 4,
  "nbformat_minor": 0,
  "metadata": {
    "colab": {
      "provenance": []
    },
    "kernelspec": {
      "name": "python3",
      "display_name": "Python 3"
    },
    "language_info": {
      "name": "python"
    }
  },
  "cells": [
    {
      "cell_type": "markdown",
      "source": [
        "# CSCI 4701: Python Code for Neural Network N-Gram Model\n",
        "\n",
        "Highly based on Andrej Karpathy's [makemore](https://github.com/karpathy/makemore). See the [original video](https://www.youtube.com/watch?v=PaCmpygFfXo&list=PLAqhIrjkxbuWI23v9cThsA9GvCAUhRvKZ&index=3)."
      ],
      "metadata": {
        "id": "3XC15iNsA03J"
      }
    },
    {
      "cell_type": "code",
      "execution_count": 1,
      "metadata": {
        "id": "wV_lJhFUAUEw"
      },
      "outputs": [],
      "source": [
        "import requests\n",
        "\n",
        "url = \"https://raw.githubusercontent.com/karpathy/makemore/master/names.txt\"\n",
        "response = requests.get(url)\n",
        "data = response.text\n",
        "words = data.splitlines()"
      ]
    },
    {
      "cell_type": "code",
      "source": [
        "print('Length:', len(words))\n",
        "print(words[:5] )"
      ],
      "metadata": {
        "colab": {
          "base_uri": "https://localhost:8080/"
        },
        "id": "5Gwq_002BXPh",
        "outputId": "95145c73-de46-484c-c811-e5259a03b674"
      },
      "execution_count": 2,
      "outputs": [
        {
          "output_type": "stream",
          "name": "stdout",
          "text": [
            "Length: 32033\n",
            "['emma', 'olivia', 'ava', 'isabella', 'sophia']\n"
          ]
        }
      ]
    },
    {
      "cell_type": "markdown",
      "source": [
        "This data provides information about names. For example, by having five examples `['emma', 'olivia', 'ava', 'isabella', 'sophia']` we may conclude that the probability of `'a'` being the last letter is `1.0` after which the word will certainly end, or that the letter `'o'` is more likely to be at the beginning of the name. Our goal will be to to predict the most probable next character. A common technique is to take track of bigrams of characters (there can be N-grams of words, etc., which have both advantages and disadvantages)."
      ],
      "metadata": {
        "id": "VEfTWjkqCgub"
      }
    },
    {
      "cell_type": "markdown",
      "source": [
        "## Bigram Model"
      ],
      "metadata": {
        "id": "FqQsr_sr_fVd"
      }
    },
    {
      "cell_type": "code",
      "source": [
        "def get_bigrams(n):\n",
        "  bigrams = {}\n",
        "  for w in words[:n]:\n",
        "    w = ['<START>'] + list(w) + ['<END>']\n",
        "    for ch1, ch2 in zip(w, w[1:]):\n",
        "      b = (ch1, ch2)\n",
        "      bigrams[b] = bigrams.get(b, 0) + 1\n",
        "  return bigrams"
      ],
      "metadata": {
        "id": "U8m_hV9pBjiF"
      },
      "execution_count": 3,
      "outputs": []
    },
    {
      "cell_type": "markdown",
      "source": [
        "Change `n` up to 5 and take note of the bigram counts."
      ],
      "metadata": {
        "id": "QeXyRc5IP23I"
      }
    },
    {
      "cell_type": "code",
      "source": [
        "get_bigrams(n=2)"
      ],
      "metadata": {
        "colab": {
          "base_uri": "https://localhost:8080/"
        },
        "id": "THhUvYk4ulB2",
        "outputId": "203215f0-f6ab-4c1c-89dc-dddf40119140"
      },
      "execution_count": 4,
      "outputs": [
        {
          "output_type": "execute_result",
          "data": {
            "text/plain": [
              "{('<START>', 'e'): 1,\n",
              " ('e', 'm'): 1,\n",
              " ('m', 'm'): 1,\n",
              " ('m', 'a'): 1,\n",
              " ('a', '<END>'): 2,\n",
              " ('<START>', 'o'): 1,\n",
              " ('o', 'l'): 1,\n",
              " ('l', 'i'): 1,\n",
              " ('i', 'v'): 1,\n",
              " ('v', 'i'): 1,\n",
              " ('i', 'a'): 1}"
            ]
          },
          "metadata": {},
          "execution_count": 4
        }
      ]
    },
    {
      "cell_type": "code",
      "source": [
        "from collections import Counter\n",
        "\n",
        "bigrams = get_bigrams(len(words))\n",
        "Counter(bigrams).most_common()"
      ],
      "metadata": {
        "colab": {
          "base_uri": "https://localhost:8080/"
        },
        "id": "P3VxwHcOQc_q",
        "outputId": "1610be0c-a4f2-475d-b256-06894ec79da4"
      },
      "execution_count": 5,
      "outputs": [
        {
          "output_type": "execute_result",
          "data": {
            "text/plain": [
              "[(('n', '<END>'), 6763),\n",
              " (('a', '<END>'), 6640),\n",
              " (('a', 'n'), 5438),\n",
              " (('<START>', 'a'), 4410),\n",
              " (('e', '<END>'), 3983),\n",
              " (('a', 'r'), 3264),\n",
              " (('e', 'l'), 3248),\n",
              " (('r', 'i'), 3033),\n",
              " (('n', 'a'), 2977),\n",
              " (('<START>', 'k'), 2963),\n",
              " (('l', 'e'), 2921),\n",
              " (('e', 'n'), 2675),\n",
              " (('l', 'a'), 2623),\n",
              " (('m', 'a'), 2590),\n",
              " (('<START>', 'm'), 2538),\n",
              " (('a', 'l'), 2528),\n",
              " (('i', '<END>'), 2489),\n",
              " (('l', 'i'), 2480),\n",
              " (('i', 'a'), 2445),\n",
              " (('<START>', 'j'), 2422),\n",
              " (('o', 'n'), 2411),\n",
              " (('h', '<END>'), 2409),\n",
              " (('r', 'a'), 2356),\n",
              " (('a', 'h'), 2332),\n",
              " (('h', 'a'), 2244),\n",
              " (('y', 'a'), 2143),\n",
              " (('i', 'n'), 2126),\n",
              " (('<START>', 's'), 2055),\n",
              " (('a', 'y'), 2050),\n",
              " (('y', '<END>'), 2007),\n",
              " (('e', 'r'), 1958),\n",
              " (('n', 'n'), 1906),\n",
              " (('y', 'n'), 1826),\n",
              " (('k', 'a'), 1731),\n",
              " (('n', 'i'), 1725),\n",
              " (('r', 'e'), 1697),\n",
              " (('<START>', 'd'), 1690),\n",
              " (('i', 'e'), 1653),\n",
              " (('a', 'i'), 1650),\n",
              " (('<START>', 'r'), 1639),\n",
              " (('a', 'm'), 1634),\n",
              " (('l', 'y'), 1588),\n",
              " (('<START>', 'l'), 1572),\n",
              " (('<START>', 'c'), 1542),\n",
              " (('<START>', 'e'), 1531),\n",
              " (('j', 'a'), 1473),\n",
              " (('r', '<END>'), 1377),\n",
              " (('n', 'e'), 1359),\n",
              " (('l', 'l'), 1345),\n",
              " (('i', 'l'), 1345),\n",
              " (('i', 's'), 1316),\n",
              " (('l', '<END>'), 1314),\n",
              " (('<START>', 't'), 1308),\n",
              " (('<START>', 'b'), 1306),\n",
              " (('d', 'a'), 1303),\n",
              " (('s', 'h'), 1285),\n",
              " (('d', 'e'), 1283),\n",
              " (('e', 'e'), 1271),\n",
              " (('m', 'i'), 1256),\n",
              " (('s', 'a'), 1201),\n",
              " (('s', '<END>'), 1169),\n",
              " (('<START>', 'n'), 1146),\n",
              " (('a', 's'), 1118),\n",
              " (('y', 'l'), 1104),\n",
              " (('e', 'y'), 1070),\n",
              " (('o', 'r'), 1059),\n",
              " (('a', 'd'), 1042),\n",
              " (('t', 'a'), 1027),\n",
              " (('<START>', 'z'), 929),\n",
              " (('v', 'i'), 911),\n",
              " (('k', 'e'), 895),\n",
              " (('s', 'e'), 884),\n",
              " (('<START>', 'h'), 874),\n",
              " (('r', 'o'), 869),\n",
              " (('e', 's'), 861),\n",
              " (('z', 'a'), 860),\n",
              " (('o', '<END>'), 855),\n",
              " (('i', 'r'), 849),\n",
              " (('b', 'r'), 842),\n",
              " (('a', 'v'), 834),\n",
              " (('m', 'e'), 818),\n",
              " (('e', 'i'), 818),\n",
              " (('c', 'a'), 815),\n",
              " (('i', 'y'), 779),\n",
              " (('r', 'y'), 773),\n",
              " (('e', 'm'), 769),\n",
              " (('s', 't'), 765),\n",
              " (('h', 'i'), 729),\n",
              " (('t', 'e'), 716),\n",
              " (('n', 'd'), 704),\n",
              " (('l', 'o'), 692),\n",
              " (('a', 'e'), 692),\n",
              " (('a', 't'), 687),\n",
              " (('s', 'i'), 684),\n",
              " (('e', 'a'), 679),\n",
              " (('d', 'i'), 674),\n",
              " (('h', 'e'), 674),\n",
              " (('<START>', 'g'), 669),\n",
              " (('t', 'o'), 667),\n",
              " (('c', 'h'), 664),\n",
              " (('b', 'e'), 655),\n",
              " (('t', 'h'), 647),\n",
              " (('v', 'a'), 642),\n",
              " (('o', 'l'), 619),\n",
              " (('<START>', 'i'), 591),\n",
              " (('i', 'o'), 588),\n",
              " (('e', 't'), 580),\n",
              " (('v', 'e'), 568),\n",
              " (('a', 'k'), 568),\n",
              " (('a', 'a'), 556),\n",
              " (('c', 'e'), 551),\n",
              " (('a', 'b'), 541),\n",
              " (('i', 't'), 541),\n",
              " (('<START>', 'y'), 535),\n",
              " (('t', 'i'), 532),\n",
              " (('s', 'o'), 531),\n",
              " (('m', '<END>'), 516),\n",
              " (('d', '<END>'), 516),\n",
              " (('<START>', 'p'), 515),\n",
              " (('i', 'c'), 509),\n",
              " (('k', 'i'), 509),\n",
              " (('o', 's'), 504),\n",
              " (('n', 'o'), 496),\n",
              " (('t', '<END>'), 483),\n",
              " (('j', 'o'), 479),\n",
              " (('u', 's'), 474),\n",
              " (('a', 'c'), 470),\n",
              " (('n', 'y'), 465),\n",
              " (('e', 'v'), 463),\n",
              " (('s', 's'), 461),\n",
              " (('m', 'o'), 452),\n",
              " (('i', 'k'), 445),\n",
              " (('n', 't'), 443),\n",
              " (('i', 'd'), 440),\n",
              " (('j', 'e'), 440),\n",
              " (('a', 'z'), 435),\n",
              " (('i', 'g'), 428),\n",
              " (('i', 'm'), 427),\n",
              " (('r', 'r'), 425),\n",
              " (('d', 'r'), 424),\n",
              " (('<START>', 'f'), 417),\n",
              " (('u', 'r'), 414),\n",
              " (('r', 'l'), 413),\n",
              " (('y', 's'), 401),\n",
              " (('<START>', 'o'), 394),\n",
              " (('e', 'd'), 384),\n",
              " (('a', 'u'), 381),\n",
              " (('c', 'o'), 380),\n",
              " (('k', 'y'), 379),\n",
              " (('d', 'o'), 378),\n",
              " (('<START>', 'v'), 376),\n",
              " (('t', 't'), 374),\n",
              " (('z', 'e'), 373),\n",
              " (('z', 'i'), 364),\n",
              " (('k', '<END>'), 363),\n",
              " (('g', 'h'), 360),\n",
              " (('t', 'r'), 352),\n",
              " (('k', 'o'), 344),\n",
              " (('t', 'y'), 341),\n",
              " (('g', 'e'), 334),\n",
              " (('g', 'a'), 330),\n",
              " (('l', 'u'), 324),\n",
              " (('b', 'a'), 321),\n",
              " (('d', 'y'), 317),\n",
              " (('c', 'k'), 316),\n",
              " (('<START>', 'w'), 307),\n",
              " (('k', 'h'), 307),\n",
              " (('u', 'l'), 301),\n",
              " (('y', 'e'), 301),\n",
              " (('y', 'r'), 291),\n",
              " (('m', 'y'), 287),\n",
              " (('h', 'o'), 287),\n",
              " (('w', 'a'), 280),\n",
              " (('s', 'l'), 279),\n",
              " (('n', 's'), 278),\n",
              " (('i', 'z'), 277),\n",
              " (('u', 'n'), 275),\n",
              " (('o', 'u'), 275),\n",
              " (('n', 'g'), 273),\n",
              " (('y', 'd'), 272),\n",
              " (('c', 'i'), 271),\n",
              " (('y', 'o'), 271),\n",
              " (('i', 'v'), 269),\n",
              " (('e', 'o'), 269),\n",
              " (('o', 'm'), 261),\n",
              " (('r', 'u'), 252),\n",
              " (('f', 'a'), 242),\n",
              " (('b', 'i'), 217),\n",
              " (('s', 'y'), 215),\n",
              " (('n', 'c'), 213),\n",
              " (('h', 'y'), 213),\n",
              " (('p', 'a'), 209),\n",
              " (('r', 't'), 208),\n",
              " (('q', 'u'), 206),\n",
              " (('p', 'h'), 204),\n",
              " (('h', 'r'), 204),\n",
              " (('j', 'u'), 202),\n",
              " (('g', 'r'), 201),\n",
              " (('p', 'e'), 197),\n",
              " (('n', 'l'), 195),\n",
              " (('y', 'i'), 192),\n",
              " (('g', 'i'), 190),\n",
              " (('o', 'd'), 190),\n",
              " (('r', 's'), 190),\n",
              " (('r', 'd'), 187),\n",
              " (('h', 'l'), 185),\n",
              " (('s', 'u'), 185),\n",
              " (('a', 'x'), 182),\n",
              " (('e', 'z'), 181),\n",
              " (('e', 'k'), 178),\n",
              " (('o', 'v'), 176),\n",
              " (('a', 'j'), 175),\n",
              " (('o', 'h'), 171),\n",
              " (('u', 'e'), 169),\n",
              " (('m', 'm'), 168),\n",
              " (('a', 'g'), 168),\n",
              " (('h', 'u'), 166),\n",
              " (('x', '<END>'), 164),\n",
              " (('u', 'a'), 163),\n",
              " (('r', 'm'), 162),\n",
              " (('a', 'w'), 161),\n",
              " (('f', 'i'), 160),\n",
              " (('z', '<END>'), 160),\n",
              " (('u', '<END>'), 155),\n",
              " (('u', 'm'), 154),\n",
              " (('e', 'c'), 153),\n",
              " (('v', 'o'), 153),\n",
              " (('e', 'h'), 152),\n",
              " (('p', 'r'), 151),\n",
              " (('d', 'd'), 149),\n",
              " (('o', 'a'), 149),\n",
              " (('w', 'e'), 149),\n",
              " (('w', 'i'), 148),\n",
              " (('y', 'm'), 148),\n",
              " (('z', 'y'), 147),\n",
              " (('n', 'z'), 145),\n",
              " (('y', 'u'), 141),\n",
              " (('r', 'n'), 140),\n",
              " (('o', 'b'), 140),\n",
              " (('k', 'l'), 139),\n",
              " (('m', 'u'), 139),\n",
              " (('l', 'd'), 138),\n",
              " (('h', 'n'), 138),\n",
              " (('u', 'd'), 136),\n",
              " (('<START>', 'x'), 134),\n",
              " (('t', 'l'), 134),\n",
              " (('a', 'f'), 134),\n",
              " (('o', 'e'), 132),\n",
              " (('e', 'x'), 132),\n",
              " (('e', 'g'), 125),\n",
              " (('f', 'e'), 123),\n",
              " (('z', 'l'), 123),\n",
              " (('u', 'i'), 121),\n",
              " (('v', 'y'), 121),\n",
              " (('e', 'b'), 121),\n",
              " (('r', 'h'), 121),\n",
              " (('j', 'i'), 119),\n",
              " (('o', 't'), 118),\n",
              " (('d', 'h'), 118),\n",
              " (('h', 'm'), 117),\n",
              " (('c', 'l'), 116),\n",
              " (('o', 'o'), 115),\n",
              " (('y', 'c'), 115),\n",
              " (('o', 'w'), 114),\n",
              " (('o', 'c'), 114),\n",
              " (('f', 'r'), 114),\n",
              " (('b', '<END>'), 114),\n",
              " (('m', 'b'), 112),\n",
              " (('z', 'o'), 110),\n",
              " (('i', 'b'), 110),\n",
              " (('i', 'u'), 109),\n",
              " (('k', 'r'), 109),\n",
              " (('g', '<END>'), 108),\n",
              " (('y', 'v'), 106),\n",
              " (('t', 'z'), 105),\n",
              " (('b', 'o'), 105),\n",
              " (('c', 'y'), 104),\n",
              " (('y', 't'), 104),\n",
              " (('u', 'b'), 103),\n",
              " (('u', 'c'), 103),\n",
              " (('x', 'a'), 103),\n",
              " (('b', 'l'), 103),\n",
              " (('o', 'y'), 103),\n",
              " (('x', 'i'), 102),\n",
              " (('i', 'f'), 101),\n",
              " (('r', 'c'), 99),\n",
              " (('c', '<END>'), 97),\n",
              " (('m', 'r'), 97),\n",
              " (('n', 'u'), 96),\n",
              " (('o', 'p'), 95),\n",
              " (('i', 'h'), 95),\n",
              " (('k', 's'), 95),\n",
              " (('l', 's'), 94),\n",
              " (('u', 'k'), 93),\n",
              " (('<START>', 'q'), 92),\n",
              " (('d', 'u'), 92),\n",
              " (('s', 'm'), 90),\n",
              " (('r', 'k'), 90),\n",
              " (('i', 'x'), 89),\n",
              " (('v', '<END>'), 88),\n",
              " (('y', 'k'), 86),\n",
              " (('u', 'w'), 86),\n",
              " (('g', 'u'), 85),\n",
              " (('b', 'y'), 83),\n",
              " (('e', 'p'), 83),\n",
              " (('g', 'o'), 83),\n",
              " (('s', 'k'), 82),\n",
              " (('u', 't'), 82),\n",
              " (('a', 'p'), 82),\n",
              " (('e', 'f'), 82),\n",
              " (('i', 'i'), 82),\n",
              " (('r', 'v'), 80),\n",
              " (('f', '<END>'), 80),\n",
              " (('t', 'u'), 78),\n",
              " (('y', 'z'), 78),\n",
              " (('<START>', 'u'), 78),\n",
              " (('l', 't'), 77),\n",
              " (('r', 'g'), 76),\n",
              " (('c', 'r'), 76),\n",
              " (('i', 'j'), 76),\n",
              " (('w', 'y'), 73),\n",
              " (('z', 'u'), 73),\n",
              " (('l', 'v'), 72),\n",
              " (('h', 't'), 71),\n",
              " (('j', '<END>'), 71),\n",
              " (('x', 't'), 70),\n",
              " (('o', 'i'), 69),\n",
              " (('e', 'u'), 69),\n",
              " (('o', 'k'), 68),\n",
              " (('b', 'd'), 65),\n",
              " (('a', 'o'), 63),\n",
              " (('p', 'i'), 61),\n",
              " (('s', 'c'), 60),\n",
              " (('d', 'l'), 60),\n",
              " (('l', 'm'), 60),\n",
              " (('a', 'q'), 60),\n",
              " (('f', 'o'), 60),\n",
              " (('p', 'o'), 59),\n",
              " (('n', 'k'), 58),\n",
              " (('w', 'n'), 58),\n",
              " (('u', 'h'), 58),\n",
              " (('e', 'j'), 55),\n",
              " (('n', 'v'), 55),\n",
              " (('s', 'r'), 55),\n",
              " (('o', 'z'), 54),\n",
              " (('i', 'p'), 53),\n",
              " (('l', 'b'), 52),\n",
              " (('i', 'q'), 52),\n",
              " (('w', '<END>'), 51),\n",
              " (('m', 'c'), 51),\n",
              " (('s', 'p'), 51),\n",
              " (('e', 'w'), 50),\n",
              " (('k', 'u'), 50),\n",
              " (('v', 'r'), 48),\n",
              " (('u', 'g'), 47),\n",
              " (('o', 'x'), 45),\n",
              " (('u', 'z'), 45),\n",
              " (('z', 'z'), 45),\n",
              " (('j', 'h'), 45),\n",
              " (('b', 'u'), 45),\n",
              " (('o', 'g'), 44),\n",
              " (('n', 'r'), 44),\n",
              " (('f', 'f'), 44),\n",
              " (('n', 'j'), 44),\n",
              " (('z', 'h'), 43),\n",
              " (('c', 'c'), 42),\n",
              " (('r', 'b'), 41),\n",
              " (('x', 'o'), 41),\n",
              " (('b', 'h'), 41),\n",
              " (('p', 'p'), 39),\n",
              " (('x', 'l'), 39),\n",
              " (('h', 'v'), 39),\n",
              " (('b', 'b'), 38),\n",
              " (('m', 'p'), 38),\n",
              " (('x', 'x'), 38),\n",
              " (('u', 'v'), 37),\n",
              " (('x', 'e'), 36),\n",
              " (('w', 'o'), 36),\n",
              " (('c', 't'), 35),\n",
              " (('z', 'm'), 35),\n",
              " (('t', 's'), 35),\n",
              " (('m', 's'), 35),\n",
              " (('c', 'u'), 35),\n",
              " (('o', 'f'), 34),\n",
              " (('u', 'x'), 34),\n",
              " (('k', 'w'), 34),\n",
              " (('p', '<END>'), 33),\n",
              " (('g', 'l'), 32),\n",
              " (('z', 'r'), 32),\n",
              " (('d', 'n'), 31),\n",
              " (('g', 't'), 31),\n",
              " (('g', 'y'), 31),\n",
              " (('h', 's'), 31),\n",
              " (('x', 's'), 31),\n",
              " (('g', 's'), 30),\n",
              " (('x', 'y'), 30),\n",
              " (('y', 'g'), 30),\n",
              " (('d', 'm'), 30),\n",
              " (('d', 's'), 29),\n",
              " (('h', 'k'), 29),\n",
              " (('y', 'x'), 28),\n",
              " (('q', '<END>'), 28),\n",
              " (('g', 'n'), 27),\n",
              " (('y', 'b'), 27),\n",
              " (('g', 'w'), 26),\n",
              " (('n', 'h'), 26),\n",
              " (('k', 'n'), 26),\n",
              " (('g', 'g'), 25),\n",
              " (('d', 'g'), 25),\n",
              " (('l', 'c'), 25),\n",
              " (('r', 'j'), 25),\n",
              " (('w', 'u'), 25),\n",
              " (('l', 'k'), 24),\n",
              " (('m', 'd'), 24),\n",
              " (('s', 'w'), 24),\n",
              " (('s', 'n'), 24),\n",
              " (('h', 'd'), 24),\n",
              " (('w', 'h'), 23),\n",
              " (('y', 'j'), 23),\n",
              " (('y', 'y'), 23),\n",
              " (('r', 'z'), 23),\n",
              " (('d', 'w'), 23),\n",
              " (('w', 'r'), 22),\n",
              " (('t', 'n'), 22),\n",
              " (('l', 'f'), 22),\n",
              " (('y', 'h'), 22),\n",
              " (('r', 'w'), 21),\n",
              " (('s', 'b'), 21),\n",
              " (('m', 'n'), 20),\n",
              " (('f', 'l'), 20),\n",
              " (('w', 's'), 20),\n",
              " (('k', 'k'), 20),\n",
              " (('h', 'z'), 20),\n",
              " (('g', 'd'), 19),\n",
              " (('l', 'h'), 19),\n",
              " (('n', 'm'), 19),\n",
              " (('x', 'z'), 19),\n",
              " (('u', 'f'), 19),\n",
              " (('f', 't'), 18),\n",
              " (('l', 'r'), 18),\n",
              " (('p', 't'), 17),\n",
              " (('t', 'c'), 17),\n",
              " (('k', 't'), 17),\n",
              " (('d', 'v'), 17),\n",
              " (('u', 'p'), 16),\n",
              " (('p', 'l'), 16),\n",
              " (('l', 'w'), 16),\n",
              " (('p', 's'), 16),\n",
              " (('o', 'j'), 16),\n",
              " (('r', 'q'), 16),\n",
              " (('y', 'p'), 15),\n",
              " (('l', 'p'), 15),\n",
              " (('t', 'v'), 15),\n",
              " (('r', 'p'), 14),\n",
              " (('l', 'n'), 14),\n",
              " (('e', 'q'), 14),\n",
              " (('f', 'y'), 14),\n",
              " (('s', 'v'), 14),\n",
              " (('u', 'j'), 14),\n",
              " (('v', 'l'), 14),\n",
              " (('q', 'a'), 13),\n",
              " (('u', 'y'), 13),\n",
              " (('q', 'i'), 13),\n",
              " (('w', 'l'), 13),\n",
              " (('p', 'y'), 12),\n",
              " (('y', 'f'), 12),\n",
              " (('c', 'q'), 11),\n",
              " (('j', 'r'), 11),\n",
              " (('n', 'w'), 11),\n",
              " (('n', 'f'), 11),\n",
              " (('t', 'w'), 11),\n",
              " (('m', 'z'), 11),\n",
              " (('u', 'o'), 10),\n",
              " (('f', 'u'), 10),\n",
              " (('l', 'z'), 10),\n",
              " (('h', 'w'), 10),\n",
              " (('u', 'q'), 10),\n",
              " (('j', 'y'), 10),\n",
              " (('s', 'z'), 10),\n",
              " (('s', 'd'), 9),\n",
              " (('j', 'l'), 9),\n",
              " (('d', 'j'), 9),\n",
              " (('k', 'm'), 9),\n",
              " (('r', 'f'), 9),\n",
              " (('h', 'j'), 9),\n",
              " (('v', 'n'), 8),\n",
              " (('n', 'b'), 8),\n",
              " (('i', 'w'), 8),\n",
              " (('h', 'b'), 8),\n",
              " (('b', 's'), 8),\n",
              " (('w', 't'), 8),\n",
              " (('w', 'd'), 8),\n",
              " (('v', 'v'), 7),\n",
              " (('v', 'u'), 7),\n",
              " (('j', 's'), 7),\n",
              " (('m', 'j'), 7),\n",
              " (('f', 's'), 6),\n",
              " (('l', 'g'), 6),\n",
              " (('l', 'j'), 6),\n",
              " (('j', 'w'), 6),\n",
              " (('n', 'x'), 6),\n",
              " (('y', 'q'), 6),\n",
              " (('w', 'k'), 6),\n",
              " (('g', 'm'), 6),\n",
              " (('x', 'u'), 5),\n",
              " (('m', 'h'), 5),\n",
              " (('m', 'l'), 5),\n",
              " (('j', 'm'), 5),\n",
              " (('c', 's'), 5),\n",
              " (('j', 'v'), 5),\n",
              " (('n', 'p'), 5),\n",
              " (('d', 'f'), 5),\n",
              " (('x', 'd'), 5),\n",
              " (('z', 'b'), 4),\n",
              " (('f', 'n'), 4),\n",
              " (('x', 'c'), 4),\n",
              " (('m', 't'), 4),\n",
              " (('t', 'm'), 4),\n",
              " (('z', 'n'), 4),\n",
              " (('z', 't'), 4),\n",
              " (('p', 'u'), 4),\n",
              " (('c', 'z'), 4),\n",
              " (('b', 'n'), 4),\n",
              " (('z', 's'), 4),\n",
              " (('f', 'w'), 4),\n",
              " (('d', 't'), 4),\n",
              " (('j', 'd'), 4),\n",
              " (('j', 'c'), 4),\n",
              " (('y', 'w'), 4),\n",
              " (('v', 'k'), 3),\n",
              " (('x', 'w'), 3),\n",
              " (('t', 'j'), 3),\n",
              " (('c', 'j'), 3),\n",
              " (('q', 'w'), 3),\n",
              " (('g', 'b'), 3),\n",
              " (('o', 'q'), 3),\n",
              " (('r', 'x'), 3),\n",
              " (('d', 'c'), 3),\n",
              " (('g', 'j'), 3),\n",
              " (('x', 'f'), 3),\n",
              " (('z', 'w'), 3),\n",
              " (('d', 'k'), 3),\n",
              " (('u', 'u'), 3),\n",
              " (('m', 'v'), 3),\n",
              " (('c', 'x'), 3),\n",
              " (('l', 'q'), 3),\n",
              " (('p', 'b'), 2),\n",
              " (('t', 'g'), 2),\n",
              " (('q', 's'), 2),\n",
              " (('t', 'x'), 2),\n",
              " (('f', 'k'), 2),\n",
              " (('b', 't'), 2),\n",
              " (('j', 'n'), 2),\n",
              " (('k', 'c'), 2),\n",
              " (('z', 'k'), 2),\n",
              " (('s', 'j'), 2),\n",
              " (('s', 'f'), 2),\n",
              " (('z', 'j'), 2),\n",
              " (('n', 'q'), 2),\n",
              " (('f', 'z'), 2),\n",
              " (('h', 'g'), 2),\n",
              " (('w', 'w'), 2),\n",
              " (('k', 'j'), 2),\n",
              " (('j', 'k'), 2),\n",
              " (('w', 'm'), 2),\n",
              " (('z', 'c'), 2),\n",
              " (('z', 'v'), 2),\n",
              " (('w', 'f'), 2),\n",
              " (('q', 'm'), 2),\n",
              " (('k', 'z'), 2),\n",
              " (('j', 'j'), 2),\n",
              " (('z', 'p'), 2),\n",
              " (('j', 't'), 2),\n",
              " (('k', 'b'), 2),\n",
              " (('m', 'w'), 2),\n",
              " (('h', 'f'), 2),\n",
              " (('c', 'g'), 2),\n",
              " (('t', 'f'), 2),\n",
              " (('h', 'c'), 2),\n",
              " (('q', 'o'), 2),\n",
              " (('k', 'd'), 2),\n",
              " (('k', 'v'), 2),\n",
              " (('s', 'g'), 2),\n",
              " (('z', 'd'), 2),\n",
              " (('q', 'r'), 1),\n",
              " (('d', 'z'), 1),\n",
              " (('p', 'j'), 1),\n",
              " (('q', 'l'), 1),\n",
              " (('p', 'f'), 1),\n",
              " (('q', 'e'), 1),\n",
              " (('b', 'c'), 1),\n",
              " (('c', 'd'), 1),\n",
              " (('m', 'f'), 1),\n",
              " (('p', 'n'), 1),\n",
              " (('w', 'b'), 1),\n",
              " (('p', 'c'), 1),\n",
              " (('h', 'p'), 1),\n",
              " (('f', 'h'), 1),\n",
              " (('b', 'j'), 1),\n",
              " (('f', 'g'), 1),\n",
              " (('z', 'g'), 1),\n",
              " (('c', 'p'), 1),\n",
              " (('p', 'k'), 1),\n",
              " (('p', 'm'), 1),\n",
              " (('x', 'n'), 1),\n",
              " (('s', 'q'), 1),\n",
              " (('k', 'f'), 1),\n",
              " (('m', 'k'), 1),\n",
              " (('x', 'h'), 1),\n",
              " (('g', 'f'), 1),\n",
              " (('v', 'b'), 1),\n",
              " (('j', 'p'), 1),\n",
              " (('g', 'z'), 1),\n",
              " (('v', 'd'), 1),\n",
              " (('d', 'b'), 1),\n",
              " (('v', 'h'), 1),\n",
              " (('h', 'h'), 1),\n",
              " (('g', 'v'), 1),\n",
              " (('d', 'q'), 1),\n",
              " (('x', 'b'), 1),\n",
              " (('w', 'z'), 1),\n",
              " (('h', 'q'), 1),\n",
              " (('j', 'b'), 1),\n",
              " (('x', 'm'), 1),\n",
              " (('w', 'g'), 1),\n",
              " (('t', 'b'), 1),\n",
              " (('z', 'x'), 1)]"
            ]
          },
          "metadata": {},
          "execution_count": 5
        }
      ]
    },
    {
      "cell_type": "markdown",
      "source": [
        "We will store bigrams in a `PyTorch` tensor instead of a dictionary. Each character will be mapped to an id."
      ],
      "metadata": {
        "id": "BlyWN2QpShN9"
      }
    },
    {
      "cell_type": "code",
      "source": [
        "import string\n",
        "\n",
        "# character mapping from string to integer\n",
        "chars = list(string.ascii_lowercase)\n",
        "stoi = {ch: i for i, ch in enumerate(chars)}\n",
        "stoi['<START>'] = 26\n",
        "stoi['<END>'] = 27\n",
        "stoi"
      ],
      "metadata": {
        "colab": {
          "base_uri": "https://localhost:8080/"
        },
        "id": "50DzzfrvUifL",
        "outputId": "bd875635-8683-490d-b5ee-4c24b128c657"
      },
      "execution_count": 7,
      "outputs": [
        {
          "output_type": "execute_result",
          "data": {
            "text/plain": [
              "{'a': 0,\n",
              " 'b': 1,\n",
              " 'c': 2,\n",
              " 'd': 3,\n",
              " 'e': 4,\n",
              " 'f': 5,\n",
              " 'g': 6,\n",
              " 'h': 7,\n",
              " 'i': 8,\n",
              " 'j': 9,\n",
              " 'k': 10,\n",
              " 'l': 11,\n",
              " 'm': 12,\n",
              " 'n': 13,\n",
              " 'o': 14,\n",
              " 'p': 15,\n",
              " 'q': 16,\n",
              " 'r': 17,\n",
              " 's': 18,\n",
              " 't': 19,\n",
              " 'u': 20,\n",
              " 'v': 21,\n",
              " 'w': 22,\n",
              " 'x': 23,\n",
              " 'y': 24,\n",
              " 'z': 25,\n",
              " '<START>': 26,\n",
              " '<END>': 27}"
            ]
          },
          "metadata": {},
          "execution_count": 7
        }
      ]
    },
    {
      "cell_type": "code",
      "source": [
        "import torch\n",
        "\n",
        "SIZE = len(stoi)\n",
        "\n",
        "def get_bigrams(n):\n",
        "  bigrams = torch.zeros((SIZE, SIZE))\n",
        "  for w in words[:n]:\n",
        "    w = ['<START>'] + list(w) + ['<END>']\n",
        "    for ch1, ch2 in zip(w, w[1:]):\n",
        "      bigrams[stoi[ch1], stoi[ch2]] += 1\n",
        "  return bigrams"
      ],
      "metadata": {
        "id": "dGZJ2doITMlA"
      },
      "execution_count": 8,
      "outputs": []
    },
    {
      "cell_type": "code",
      "source": [
        "bigrams = get_bigrams(len(words))"
      ],
      "metadata": {
        "id": "dhA9gLNycbUq"
      },
      "execution_count": 9,
      "outputs": []
    },
    {
      "cell_type": "markdown",
      "source": [
        "We can refer to bigrams by indices and slicing. Modify `i` and `j` and run the code to get a sense of the table."
      ],
      "metadata": {
        "id": "SXXEqDD4e_n7"
      }
    },
    {
      "cell_type": "code",
      "source": [
        "itos = {ch: i for i, ch in stoi.items()} # reverse stoi\n",
        "\n",
        "i, j = 0, 1\n",
        "count = bigrams[i, j]\n",
        "print(f'({itos[i]}, {itos[j]}): {count}')"
      ],
      "metadata": {
        "colab": {
          "base_uri": "https://localhost:8080/"
        },
        "id": "nMr8AigBYJUl",
        "outputId": "cc2fd18f-6262-4472-f293-981e7ab3f9c3"
      },
      "execution_count": 10,
      "outputs": [
        {
          "output_type": "stream",
          "name": "stdout",
          "text": [
            "(a, b): 541.0\n"
          ]
        }
      ]
    },
    {
      "cell_type": "markdown",
      "source": [
        "**Exercise:** Find the probability of a character (e.g. `b`) being the first character (hint: it will follow `<START>`)."
      ],
      "metadata": {
        "id": "hApJynGHgaBU"
      }
    },
    {
      "cell_type": "code",
      "source": [
        "counts = bigrams[stoi['<START>']]\n",
        "probs = counts / counts.sum()\n",
        "probs[stoi['b']]"
      ],
      "metadata": {
        "colab": {
          "base_uri": "https://localhost:8080/"
        },
        "id": "eLHgvyD4eX3n",
        "outputId": "e315de26-34fe-4bc7-b922-a4eda884740d"
      },
      "execution_count": 11,
      "outputs": [
        {
          "output_type": "execute_result",
          "data": {
            "text/plain": [
              "tensor(0.0408)"
            ]
          },
          "metadata": {},
          "execution_count": 11
        }
      ]
    },
    {
      "cell_type": "markdown",
      "source": [
        "To generate some output we need to understand `torch.multinomial`. Let's have a simpler probability distribution for three classes (`0`, `1`, `2`). Our goal is to generate `n` samples according to the given probabilities. Setting `replacement=True` means the same class index can be picked multiple times. The higher a class' probability, the more often it is likely to appear in the samples. Rerun the cell below and notice how probabilities are related to the generated samples."
      ],
      "metadata": {
        "id": "LmWodLOzzE0_"
      }
    },
    {
      "cell_type": "code",
      "source": [
        "p = torch.rand(3)\n",
        "p /= p.sum()\n",
        "samples = torch.multinomial(p, num_samples=10, replacement=True)\n",
        "\n",
        "print(p)\n",
        "print(samples)"
      ],
      "metadata": {
        "colab": {
          "base_uri": "https://localhost:8080/"
        },
        "id": "hS0RKGBa026G",
        "outputId": "efd5c063-f408-40f0-c9b0-5e341c06f426"
      },
      "execution_count": 12,
      "outputs": [
        {
          "output_type": "stream",
          "name": "stdout",
          "text": [
            "tensor([0.5375, 0.1891, 0.2735])\n",
            "tensor([0, 0, 0, 2, 0, 1, 0, 0, 1, 0])\n"
          ]
        }
      ]
    },
    {
      "cell_type": "markdown",
      "source": [
        "Once we understand the logic of `torch.multinomial`, we will randomly pick a next character based on our probability distribution. The higher is the frequency of the bigram, the more likely is that the random sampler will return us that character."
      ],
      "metadata": {
        "id": "FPWa82Bi4k_s"
      }
    },
    {
      "cell_type": "code",
      "source": [
        "next_char = torch.multinomial(probs, num_samples=1, replacement=True)\n",
        "next_char, itos[next_char.item()]"
      ],
      "metadata": {
        "colab": {
          "base_uri": "https://localhost:8080/"
        },
        "id": "rEBjyhkqymtr",
        "outputId": "6814c205-54a4-4644-f9c5-5cbda49c58c8"
      },
      "execution_count": 13,
      "outputs": [
        {
          "output_type": "execute_result",
          "data": {
            "text/plain": [
              "(tensor([17]), 'r')"
            ]
          },
          "metadata": {},
          "execution_count": 13
        }
      ]
    },
    {
      "cell_type": "markdown",
      "source": [
        "We will start with bigrams of `<START>`. Once we randomly generate the next character based on its probability distribution, we will start looking for bigrams starting with that generated character. This process will continue until we our sampling returns `<END>`."
      ],
      "metadata": {
        "id": "Gg2Z2Zhm5mbb"
      }
    },
    {
      "cell_type": "markdown",
      "source": [
        " We will work with the probability matrix from now on, instead of the frequency matrix. Below, `dim=1` ensures that we sum along the row of the matrix, when `keepdim=True` keeps the extra dimension. Refer to the `PyTorch` documentation and test out different parameters."
      ],
      "metadata": {
        "id": "E4x993bsBibs"
      }
    },
    {
      "cell_type": "code",
      "source": [
        "probs = bigrams/bigrams.sum(dim=1, keepdim=True)\n",
        "probs.shape"
      ],
      "metadata": {
        "colab": {
          "base_uri": "https://localhost:8080/"
        },
        "id": "zo3COgQ7BGbf",
        "outputId": "37b7f366-fab3-4cf8-f60d-90777cba0e37"
      },
      "execution_count": 14,
      "outputs": [
        {
          "output_type": "execute_result",
          "data": {
            "text/plain": [
              "torch.Size([28, 28])"
            ]
          },
          "metadata": {},
          "execution_count": 14
        }
      ]
    },
    {
      "cell_type": "code",
      "source": [
        "def sample_names(n=10):\n",
        "  names = ''\n",
        "  for i in range(n):\n",
        "    id = stoi['<START>']\n",
        "    while id != stoi['<END>']:\n",
        "      p = probs[id]\n",
        "      next_char = torch.multinomial(p, 1, replacement=True)\n",
        "      id = next_char.item()\n",
        "      names += itos[id]\n",
        "  return names.replace(\"<END>\", \"\\n\")"
      ],
      "metadata": {
        "id": "uZWfpYGpynLD"
      },
      "execution_count": 15,
      "outputs": []
    },
    {
      "cell_type": "code",
      "source": [
        "print(sample_names())"
      ],
      "metadata": {
        "colab": {
          "base_uri": "https://localhost:8080/"
        },
        "id": "F2DgDJCf9r3c",
        "outputId": "0185b714-a8e6-44ea-9c9c-e9e84c673be1"
      },
      "execution_count": 21,
      "outputs": [
        {
          "output_type": "stream",
          "name": "stdout",
          "text": [
            "tarios\n",
            "caly\n",
            "kelaherthrwa\n",
            "dyaronn\n",
            "zenel\n",
            "brid\n",
            "c\n",
            "sh\n",
            "ve\n",
            "minica\n",
            "\n"
          ]
        }
      ]
    },
    {
      "cell_type": "markdown",
      "source": [
        "## Average Negative Log-Likelihood"
      ],
      "metadata": {
        "id": "S5onO6oJEaFF"
      }
    },
    {
      "cell_type": "markdown",
      "source": [
        "We can evaluate our model and determine the loss function with [likelihood](https://en.wikipedia.org/wiki/Likelihood_function). Note that our prediction probabilities are generated by simply counting bigram frequencies."
      ],
      "metadata": {
        "id": "KD25e33MFOli"
      }
    },
    {
      "cell_type": "code",
      "source": [
        "n = 1\n",
        "for w in words[:n]:\n",
        "  w = ['<START>'] + list(w) + ['<END>']\n",
        "  for ch1, ch2 in zip(w, w[1:]):\n",
        "    p = probs[stoi[ch1], stoi[ch2]]\n",
        "    print(f'{ch1, ch2}: {p.item():.4f}')"
      ],
      "metadata": {
        "colab": {
          "base_uri": "https://localhost:8080/"
        },
        "id": "2nmUKlKzDmJc",
        "outputId": "5fe98ab4-8655-4888-e146-1bb6a65fdeaa"
      },
      "execution_count": 22,
      "outputs": [
        {
          "output_type": "stream",
          "name": "stdout",
          "text": [
            "('<START>', 'e'): 0.0478\n",
            "('e', 'm'): 0.0377\n",
            "('m', 'm'): 0.0253\n",
            "('m', 'a'): 0.3899\n",
            "('a', '<END>'): 0.1960\n"
          ]
        }
      ]
    },
    {
      "cell_type": "markdown",
      "source": [
        "The logic of bigram model is that the probability of rare characters coming together in names (e.g. `xy`) will be much smaller than the more common cases (e.g. `na`). A better training corpus captures more realistic character transitions and assigns higher probabilities to frequently seen patterns.\n",
        "\n",
        "Since the model assumes that each character depends only on the previous one (Markov assumption), the joint probability of a sequence is the product of all conditional probabilities:\n",
        "\n",
        "$P(c_1, c_2, \\ldots, c_n) = P(c_1) \\cdot P(c_2 \\mid c_1) \\cdot P(c_3 \\mid c_2) \\cdots P(c_n \\mid c_{n-1})$\n",
        "\n",
        "**Likelihood** estimates this quality for our model by multiplying all prediction probabilities. Higher is the joint probability, the better is model's prediction quality. However, direct multiplication may have the following issue:"
      ],
      "metadata": {
        "id": "_aGH1RFuKyg7"
      }
    },
    {
      "cell_type": "code",
      "source": [
        "n = 5\n",
        "for word in words[:n]:\n",
        "  likelihood = 1.0\n",
        "  w = ['<START>'] + list(word) + ['<END>']\n",
        "  for ch1, ch2 in zip(w, w[1:]):\n",
        "    p = probs[stoi[ch1], stoi[ch2]]\n",
        "    likelihood *= p\n",
        "  print(f'Model predicts {word} is {likelihood:.9f} likely')"
      ],
      "metadata": {
        "colab": {
          "base_uri": "https://localhost:8080/"
        },
        "id": "Lj0Sd4y1JoXy",
        "outputId": "c965440a-3b4a-4423-f159-616df9bc4417"
      },
      "execution_count": 24,
      "outputs": [
        {
          "output_type": "stream",
          "name": "stdout",
          "text": [
            "Model predicts emma is 0.000003478 likely\n",
            "Model predicts olivia is 0.000000025 likely\n",
            "Model predicts ava is 0.000165674 likely\n",
            "Model predicts isabella is 0.000000000 likely\n",
            "Model predicts sophia is 0.000000026 likely\n"
          ]
        }
      ]
    },
    {
      "cell_type": "markdown",
      "source": [
        "**Question:** How to fix the issue above?"
      ],
      "metadata": {
        "id": "y9jrUH8oe0tm"
      }
    },
    {
      "cell_type": "markdown",
      "source": [
        "As can be seen, the result of chained multiplication is a very small number (somewhat resembling vanishing gradient problem). To resolve this issue, individual probabilities between `0` and `1` are mapped to a `log` function domain (-$\\infty$, 0]. Logarithm function is monotonic (preserves order): maximum probability is mapped to `0`, smaller probabilities are mapped to bigger negative values."
      ],
      "metadata": {
        "id": "0k717SP2QEAe"
      }
    },
    {
      "cell_type": "code",
      "source": [
        "import numpy as np\n",
        "import matplotlib.pyplot as plt\n",
        "\n",
        "p = np.linspace(0.001, 1, 200)\n",
        "log_p = np.log(p)\n",
        "\n",
        "plt.figure(figsize=(6, 4))\n",
        "plt.plot(p, log_p)\n",
        "plt.title(\"Natural Log Function\")\n",
        "plt.grid(True)"
      ],
      "metadata": {
        "colab": {
          "base_uri": "https://localhost:8080/",
          "height": 391
        },
        "id": "mCfjzk-jM1yW",
        "outputId": "c6d64c1a-ce39-4d1c-b1f5-f4108d963742"
      },
      "execution_count": 25,
      "outputs": [
        {
          "output_type": "display_data",
          "data": {
            "text/plain": [
              "<Figure size 600x400 with 1 Axes>"
            ],
            "image/png": "[encoded data removed]"
          },
          "metadata": {}
        }
      ]
    },
    {
      "cell_type": "code",
      "source": [
        "n = 1\n",
        "for w in words[:n]:\n",
        "  w = ['<START>'] + list(w) + ['<END>']\n",
        "  for ch1, ch2 in zip(w, w[1:]):\n",
        "    p = probs[stoi[ch1], stoi[ch2]]\n",
        "    log_p = torch.log(p)\n",
        "    print(f'{ch1, ch2}: {p.item():.4f} | {log_p.item():.4f}')"
      ],
      "metadata": {
        "colab": {
          "base_uri": "https://localhost:8080/"
        },
        "id": "rIt4bau7j9sy",
        "outputId": "35c79f6f-b719-4b12-9081-8cafa5f76f01"
      },
      "execution_count": 26,
      "outputs": [
        {
          "output_type": "stream",
          "name": "stdout",
          "text": [
            "('<START>', 'e'): 0.0478 | -3.0408\n",
            "('e', 'm'): 0.0377 | -3.2793\n",
            "('m', 'm'): 0.0253 | -3.6772\n",
            "('m', 'a'): 0.3899 | -0.9418\n",
            "('a', '<END>'): 0.1960 | -1.6299\n"
          ]
        }
      ]
    },
    {
      "cell_type": "markdown",
      "source": [
        "**Log-likelihood** also has an advantage of making calculations and hence optimization (calculation of gradients) faster due to the product rule:\n",
        "\n",
        "$\\log P(c_1, c_2, \\ldots, c_n) = \\log P(c_1) + \\log P(c_2 \\mid c_1) + \\log P(c_3 \\mid c_2) + \\cdots + \\log P(c_n \\mid c_{n-1})$"
      ],
      "metadata": {
        "id": "2uRFxvmShJMg"
      }
    },
    {
      "cell_type": "code",
      "source": [
        "n = 5\n",
        "for word in words[:n]:\n",
        "  log_likelihood = 0.0\n",
        "  w = ['<START>'] + list(word) + ['<END>']\n",
        "  for ch1, ch2 in zip(w, w[1:]):\n",
        "    p = probs[stoi[ch1], stoi[ch2]]\n",
        "    log_p = torch.log(p)\n",
        "    log_likelihood += log_p\n",
        "  print(f'Model predicts {word} is {log_likelihood} likely')"
      ],
      "metadata": {
        "colab": {
          "base_uri": "https://localhost:8080/"
        },
        "id": "-Hmt2hxFRP1i",
        "outputId": "f79c9aa7-c714-495e-9b5f-1ec273f6bd80"
      },
      "execution_count": 27,
      "outputs": [
        {
          "output_type": "stream",
          "name": "stdout",
          "text": [
            "Model predicts emma is -12.568990707397461 likely\n",
            "Model predicts olivia is -17.511159896850586 likely\n",
            "Model predicts ava is -8.705486297607422 likely\n",
            "Model predicts isabella is -21.5141544342041 likely\n",
            "Model predicts sophia is -17.468196868896484 likely\n"
          ]
        }
      ]
    },
    {
      "cell_type": "markdown",
      "source": [
        "As optimization algorithms usually strive for minimizing the loss, it makes sense to invert the negative values of the log-likelihood to be positive. We can generate a single loss value by **averaging negative log-likelihoods** across all the samples."
      ],
      "metadata": {
        "id": "PkAXyDyYSvPQ"
      }
    },
    {
      "cell_type": "code",
      "source": [
        "log_likelihood = 0.0\n",
        "for word in words:\n",
        "  w = ['<START>'] + list(word) + ['<END>']\n",
        "  for ch1, ch2 in zip(w, w[1:]):\n",
        "    p = probs[stoi[ch1], stoi[ch2]]\n",
        "    log_p = torch.log(p)\n",
        "    log_likelihood += log_p\n",
        "loss = -log_likelihood / len(words)\n",
        "print(f'Loss: {loss}')"
      ],
      "metadata": {
        "colab": {
          "base_uri": "https://localhost:8080/"
        },
        "id": "Eiz34gvpSrhb",
        "outputId": "452aa3d8-e95d-46df-ea59-7735c6eb7ab8"
      },
      "execution_count": 30,
      "outputs": [
        {
          "output_type": "stream",
          "name": "stdout",
          "text": [
            "Loss: 17.478591918945312\n"
          ]
        }
      ]
    },
    {
      "cell_type": "markdown",
      "source": [
        "As we know, logarithmic function is undefined at `0`, which we need to take into consideration. Consider the case when a character combination has never occured in our training data."
      ],
      "metadata": {
        "id": "ILy0aHfZyYZR"
      }
    },
    {
      "cell_type": "code",
      "source": [
        "for word in ['jq']:\n",
        "  log_likelihood = 0.0\n",
        "  w = ['<START>'] + list(word) + ['<END>']\n",
        "  for ch1, ch2 in zip(w, w[1:]):\n",
        "    p = probs[stoi[ch1], stoi[ch2]]\n",
        "    log_p = torch.log(p)\n",
        "    log_likelihood += log_p\n",
        "  print(f'Model predicts {word} is {log_likelihood} likely')"
      ],
      "metadata": {
        "colab": {
          "base_uri": "https://localhost:8080/"
        },
        "id": "Hwv-yoYCx3iH",
        "outputId": "e4468f70-ba17-404a-cd5b-ab089fa07c50"
      },
      "execution_count": 31,
      "outputs": [
        {
          "output_type": "stream",
          "name": "stdout",
          "text": [
            "Model predicts jq is -inf likely\n"
          ]
        }
      ]
    },
    {
      "cell_type": "markdown",
      "source": [
        "In case any character sequence in string will return infinite likelihood, it will lead to infinite loss as well, which is undesirable.\n",
        "\n",
        "**Question:** How to avoid infinite loss?\n",
        "\n",
        "**Model-smoothing** is a simple technique, which aims to assign a minimal non-zero probability to cases leading to infinite likelihood. Run the next cell and replicate the experiments above to see the outcome."
      ],
      "metadata": {
        "id": "6GyeYf4SzhYf"
      }
    },
    {
      "cell_type": "code",
      "source": [
        "bigrams = bigrams + 1  # model smoothing avoids zero probabilities\n",
        "probs = bigrams/bigrams.sum(dim=1, keepdim=True)"
      ],
      "metadata": {
        "id": "LGYY1SoKy0_b"
      },
      "execution_count": 32,
      "outputs": []
    },
    {
      "cell_type": "markdown",
      "source": [
        "## Neural Network Bigram Model"
      ],
      "metadata": {
        "id": "t7NqK9244Mwp"
      }
    },
    {
      "cell_type": "markdown",
      "source": [
        "Our frequency-based bigram model didn't perform well due its simplicity. We will now build a neural network-based bigram model with the aim of increasing individual bigram prediction probabilities (recall that likelihood was calculated by multiplying conditional probabilities). Instead of counting bigrams in our training set, we will learn parameters leading to reduced loss. We will now rewrite our `get_bigrams()` function to suit the training of neural network model, where the label of each character will be the next character."
      ],
      "metadata": {
        "id": "MITGK6Jp4uLm"
      }
    },
    {
      "cell_type": "code",
      "source": [
        "def get_bigrams(n):\n",
        "  X, Y = [], []\n",
        "  for w in words[:n]:\n",
        "    w = ['<START>'] + list(w) + ['<END>']\n",
        "    for ch1, ch2 in zip(w, w[1:]):\n",
        "      X.append(stoi[ch1])\n",
        "      Y.append(stoi[ch2])\n",
        "  return torch.tensor(X), torch.tensor(Y)"
      ],
      "metadata": {
        "id": "Ol-K-lU_4PT_"
      },
      "execution_count": 33,
      "outputs": []
    },
    {
      "cell_type": "code",
      "source": [
        "X, Y = get_bigrams(1)\n",
        "X, Y"
      ],
      "metadata": {
        "colab": {
          "base_uri": "https://localhost:8080/"
        },
        "id": "Evsjo8Qq8Xqm",
        "outputId": "ed4684ec-2b28-408a-8d34-80e1dff4ac96"
      },
      "execution_count": 34,
      "outputs": [
        {
          "output_type": "execute_result",
          "data": {
            "text/plain": [
              "(tensor([26,  4, 12, 12,  0]), tensor([ 4, 12, 12,  0, 27]))"
            ]
          },
          "metadata": {},
          "execution_count": 34
        }
      ]
    },
    {
      "cell_type": "code",
      "source": [
        "[itos[x.item()] for x in X], [itos[y.item()] for y in Y]"
      ],
      "metadata": {
        "colab": {
          "base_uri": "https://localhost:8080/"
        },
        "id": "Hv5A-mQN8fC5",
        "outputId": "af9d35e3-a8ae-46e8-f5b9-ffb477af0a01"
      },
      "execution_count": 35,
      "outputs": [
        {
          "output_type": "execute_result",
          "data": {
            "text/plain": [
              "(['<START>', 'e', 'm', 'm', 'a'], ['e', 'm', 'm', 'a', '<END>'])"
            ]
          },
          "metadata": {},
          "execution_count": 35
        }
      ]
    },
    {
      "cell_type": "markdown",
      "source": [
        "We will one-hot encode our data with the `torch.nn.functional` module function, in order to not inject unnecessary numerical pattern to our data."
      ],
      "metadata": {
        "id": "9XExmlWJ-6_Q"
      }
    },
    {
      "cell_type": "code",
      "source": [
        "import torch.nn.functional as F\n",
        "\n",
        "X_train = F.one_hot(X, num_classes=SIZE).float()\n",
        "y_train = F.one_hot(Y, num_classes=SIZE).float()"
      ],
      "metadata": {
        "id": "VoKzrEbg_Xke"
      },
      "execution_count": 38,
      "outputs": []
    },
    {
      "cell_type": "code",
      "source": [
        "plt.imshow(X_train);"
      ],
      "metadata": {
        "colab": {
          "base_uri": "https://localhost:8080/",
          "height": 149
        },
        "id": "N-BjbKRY_oIV",
        "outputId": "815fbfdb-4840-4898-87b8-a199df745450"
      },
      "execution_count": 39,
      "outputs": [
        {
          "output_type": "display_data",
          "data": {
            "text/plain": [
              "<Figure size 640x480 with 1 Axes>"
            ],
            "image/png": "[encoded data removed]"
          },
          "metadata": {}
        }
      ]
    },
    {
      "cell_type": "markdown",
      "source": [
        "We will now generate weights for each character and find their linear transformation."
      ],
      "metadata": {
        "id": "nPNQ4kJoEJLt"
      }
    },
    {
      "cell_type": "code",
      "source": [
        "W = torch.randn((SIZE, 1))\n",
        "X_train @ W"
      ],
      "metadata": {
        "colab": {
          "base_uri": "https://localhost:8080/"
        },
        "id": "frt3wwQKALZA",
        "outputId": "8e284c08-66f2-4dc4-925a-15a07f3ccdf7"
      },
      "execution_count": 41,
      "outputs": [
        {
          "output_type": "execute_result",
          "data": {
            "text/plain": [
              "tensor([[ 0.5013],\n",
              "        [-0.8258],\n",
              "        [ 1.0634],\n",
              "        [ 1.0634],\n",
              "        [ 0.9002]])"
            ]
          },
          "metadata": {},
          "execution_count": 41
        }
      ]
    },
    {
      "cell_type": "markdown",
      "source": [
        "For each input character, our goal is to predict not a single probability, but probabilities for all possible output characters. Hence, we will update our weight matrix to correspond to both input and output. We will set `requires_grad=True` for future gradient calculation."
      ],
      "metadata": {
        "id": "VL30yn6rGACY"
      }
    },
    {
      "cell_type": "code",
      "source": [
        "W = torch.randn((SIZE, SIZE), requires_grad=True)\n",
        "(X_train @ W).shape"
      ],
      "metadata": {
        "colab": {
          "base_uri": "https://localhost:8080/"
        },
        "id": "534G6dEpAxhv",
        "outputId": "4811bab8-e2e0-4e7b-ef7a-73a008575a5c"
      },
      "execution_count": 42,
      "outputs": [
        {
          "output_type": "execute_result",
          "data": {
            "text/plain": [
              "torch.Size([5, 28])"
            ]
          },
          "metadata": {},
          "execution_count": 42
        }
      ]
    },
    {
      "cell_type": "markdown",
      "source": [
        "Note that `torch.randn()` function is generating weight values corresponding to Guassian distribution. Our goal is to map these values to all be positive, so that we can interpret the ouput as probabilities later on. The idea is similar to `log()` function previously. Here, the output values lower than zero will be mapped to be below `1` approaching `0`, when positive values will grow towards infinity."
      ],
      "metadata": {
        "id": "_lV9p_BnLDCE"
      }
    },
    {
      "cell_type": "code",
      "source": [
        "x = np.linspace(-4, 4, 200)\n",
        "exp_x = np.exp(x)\n",
        "\n",
        "plt.figure(figsize=(6, 4))\n",
        "plt.plot(x, exp_x)\n",
        "plt.title(\"Exponentiation Function\")\n",
        "plt.grid(True)"
      ],
      "metadata": {
        "colab": {
          "base_uri": "https://localhost:8080/",
          "height": 391
        },
        "id": "O85rS5v2Hc2e",
        "outputId": "23aa7616-5fd4-471e-d6a1-59179543f4af"
      },
      "execution_count": 43,
      "outputs": [
        {
          "output_type": "display_data",
          "data": {
            "text/plain": [
              "<Figure size 600x400 with 1 Axes>"
            ],
            "image/png": "[encoded data removed]"
          },
          "metadata": {}
        }
      ]
    },
    {
      "cell_type": "markdown",
      "source": [
        "We call the raw scores we obtain after a linear transformation **logits** (log-counts). These values are real numbers, not constrained to be positive or normalized. To interpret them as prediction probabilities, we apply the exponential function to map them to the positive domain. The output of exponentiation can be interpreted as unnormalized character frequencies or relative likelihoods. When we normalize these exponentials (i.e. divide by their total sum), we obtain values that sum to `1.0`, forming a proper probability distribution. This is exactly what we want. Note that all these functions are differentiable and applying exponentiation and normalization is exactly what **softmax** function does:\n",
        "\n",
        "$\\text{softmax}(z_i) = \\frac{\\exp(z_i)}{\\sum_{j=1}^{K} \\exp(z_j)}$\n"
      ],
      "metadata": {
        "id": "CT9RJKroOV0S"
      }
    },
    {
      "cell_type": "code",
      "source": [
        "logits = X_train @ W\n",
        "\n",
        "# softmax\n",
        "counts = torch.exp(logits)\n",
        "probs = counts / counts.sum(dim=1, keepdim=True)\n",
        "\n",
        "probs[0], probs[0].sum()"
      ],
      "metadata": {
        "colab": {
          "base_uri": "https://localhost:8080/"
        },
        "id": "lwetEfaeKl2w",
        "outputId": "cdd6a3d1-a814-4cb0-c432-95841f799a06"
      },
      "execution_count": 44,
      "outputs": [
        {
          "output_type": "execute_result",
          "data": {
            "text/plain": [
              "(tensor([0.0471, 0.0249, 0.0381, 0.0411, 0.0384, 0.0678, 0.0478, 0.0210, 0.0155,\n",
              "         0.0191, 0.0920, 0.0500, 0.0138, 0.0090, 0.0042, 0.0120, 0.1256, 0.0500,\n",
              "         0.0855, 0.0199, 0.0043, 0.0082, 0.0215, 0.0744, 0.0232, 0.0054, 0.0234,\n",
              "         0.0168], grad_fn=<SelectBackward0>),\n",
              " tensor(1.0000, grad_fn=<SumBackward0>))"
            ]
          },
          "metadata": {},
          "execution_count": 44
        }
      ]
    },
    {
      "cell_type": "markdown",
      "source": [
        "**Exercise:** Calculate the average negative log-likelihood (loss) of the model."
      ],
      "metadata": {
        "id": "y3huHk7XVSNA"
      }
    },
    {
      "cell_type": "code",
      "source": [
        "pred_probs = probs[torch.arange(len(Y)), Y]\n",
        "loss = -pred_probs.log().mean()\n",
        "loss"
      ],
      "metadata": {
        "colab": {
          "base_uri": "https://localhost:8080/"
        },
        "id": "75DNxXI6Q_pe",
        "outputId": "01f1acc5-aa1a-460d-a795-ec2b86305b90"
      },
      "execution_count": 45,
      "outputs": [
        {
          "output_type": "execute_result",
          "data": {
            "text/plain": [
              "tensor(3.5038, grad_fn=<NegBackward0>)"
            ]
          },
          "metadata": {},
          "execution_count": 45
        }
      ]
    },
    {
      "cell_type": "markdown",
      "source": [
        "We know how to call backward pass and optimize our model from previous lectures. We will combine all the steps, train our model on the whole dataset, and backpropagate through our network."
      ],
      "metadata": {
        "id": "y3n1uOPfXquD"
      }
    },
    {
      "cell_type": "code",
      "source": [
        "X, Y = get_bigrams(len(words))\n",
        "\n",
        "X_train = F.one_hot(X, num_classes=SIZE).float()\n",
        "y_train = F.one_hot(Y, num_classes=SIZE).float()\n",
        "\n",
        "W = torch.randn((SIZE, SIZE), requires_grad=True)"
      ],
      "metadata": {
        "id": "NFdSxfoxYY6l"
      },
      "execution_count": 46,
      "outputs": []
    },
    {
      "cell_type": "code",
      "source": [
        "num_epochs = 100\n",
        "learning_rate = 1\n",
        "lambda_ = 0.01\n",
        "\n",
        "for epoch in range(num_epochs):\n",
        "  # forward pass\n",
        "  logits = X_train @ W\n",
        "  counts = torch.exp(logits)\n",
        "  probs = counts / counts.sum(dim=1, keepdim=True)\n",
        "  pred_probs = probs[torch.arange(len(Y)), Y]\n",
        "\n",
        "  l2 = (W**2).sum() # regularization\n",
        "  loss = -pred_probs.log().mean() + lambda_ * l2.sum()\n",
        "\n",
        "  # backward pass\n",
        "  W.grad = None\n",
        "  loss.backward()\n",
        "\n",
        "  # optimization\n",
        "  W.data -= learning_rate * W.grad\n",
        "\n",
        "  if (epoch + 1) % 10 == 0:\n",
        "    print(f'{epoch+1}/{num_epochs}, loss: {loss}')"
      ],
      "metadata": {
        "colab": {
          "base_uri": "https://localhost:8080/"
        },
        "id": "7ptbFRHbZtjF",
        "outputId": "a36ccfa3-328c-42d6-8433-95864cbcc057"
      },
      "execution_count": 47,
      "outputs": [
        {
          "output_type": "stream",
          "name": "stdout",
          "text": [
            "10/100, loss: 9.035313606262207\n",
            "20/100, loss: 7.005525588989258\n",
            "30/100, loss: 5.685214042663574\n",
            "40/100, loss: 4.8257904052734375\n",
            "50/100, loss: 4.2659807205200195\n",
            "60/100, loss: 3.901088237762451\n",
            "70/100, loss: 3.6630942821502686\n",
            "80/100, loss: 3.5077712535858154\n",
            "90/100, loss: 3.406341552734375\n",
            "100/100, loss: 3.3400678634643555\n"
          ]
        }
      ]
    },
    {
      "cell_type": "markdown",
      "source": [
        "## Neural Network N-gram Model"
      ],
      "metadata": {
        "id": "IdiYjJizCoYN"
      }
    },
    {
      "cell_type": "markdown",
      "source": [
        "Follows the implementation of Yoshua Bengio, Réjean Ducharme, Pascal Vincent, and Christian Janvin: [A neural probabilistic language model](https://www.jmlr.org/papers/volume3/bengio03a/bengio03a.pdf), based on Andrej Karpathy's [building makemore: part 2](https://www.youtube.com/watch?v=TCH_1BHY58I&list=PLAqhIrjkxbuWI23v9cThsA9GvCAUhRvKZ&index=4)."
      ],
      "metadata": {
        "id": "xCzBsK-QB3-L"
      }
    },
    {
      "cell_type": "markdown",
      "source": [
        "We will modify the `get_bigrams()` function to include custom `block_size`, which simply implies `N-1` of `N-gram` (bigram has the block size of `1`)."
      ],
      "metadata": {
        "id": "k8eUBZJwGZ4C"
      }
    },
    {
      "cell_type": "code",
      "source": [
        "def get_ngrams(end, start=0, block_size=3):\n",
        "  X, Y = [], []\n",
        "  for w in words[start:end]:\n",
        "    context = ['<START>'] * block_size\n",
        "    for ch in list(w) + ['<END>']:\n",
        "      X.append([stoi[c] for c in context])\n",
        "      Y.append(stoi[ch])\n",
        "      context = context[1:] + [ch]\n",
        "  return torch.tensor(X), torch.tensor(Y)"
      ],
      "metadata": {
        "id": "jWLhb1FVMGDn"
      },
      "execution_count": 48,
      "outputs": []
    },
    {
      "cell_type": "code",
      "source": [
        "X, Y = get_ngrams(1, block_size=3) # try different block sizes"
      ],
      "metadata": {
        "id": "R6-wF_cfHCRv"
      },
      "execution_count": 49,
      "outputs": []
    },
    {
      "cell_type": "code",
      "source": [
        "for x, y in zip(X, Y):\n",
        "  context = [itos[i.item()] for i in x]\n",
        "  target = itos[y.item()]\n",
        "  print(f\"{context}: {target}\")"
      ],
      "metadata": {
        "colab": {
          "base_uri": "https://localhost:8080/"
        },
        "id": "lDXG47bTNCma",
        "outputId": "0a11b7b1-78d9-47d7-9d57-d8ab83c72f6d"
      },
      "execution_count": 50,
      "outputs": [
        {
          "output_type": "stream",
          "name": "stdout",
          "text": [
            "['<START>', '<START>', '<START>']: e\n",
            "['<START>', '<START>', 'e']: m\n",
            "['<START>', 'e', 'm']: m\n",
            "['e', 'm', 'm']: a\n",
            "['m', 'm', 'a']: <END>\n"
          ]
        }
      ]
    },
    {
      "cell_type": "markdown",
      "source": [
        "It is managable to convert `28` character indices by one hot encoding them to suit a neural network. However, this approach becomes innefficient when the vocabulary size increases. What if we have `10,000` words and our goal is to predict the next word? We would have to create large vectors with lots of zeros, not only wasting resources, but also losing similarity information among tokens (dot product of any two vectors will always be `0` due to orthogonality).\n",
        "\n",
        "A different approach is to get some smaller dimensional embedding of an index. Initially, these embeddings (parameters) are random, but over the course of training, model updates them to reflect the actual usage of the words in a context. When vectors of two different characters are learned to be close to each other, then we can conclude that, in our data, these characters were in a similar context. If two characters often show up in the same positions relative to surrounding characters, their embeddings get pulled toward each other. Consider the simple case below:\n",
        "\n",
        "```python\n",
        "context1 = ['b', 'a', 'd', 'a']\n",
        "context2 = ['m', 'a', 'd', 'a']\n",
        "target = 'm'\n",
        "```\n",
        "If the training data consists of these contexts, then, in order to predict `m` for both contexts, their learned embeddings should be similar in value."
      ],
      "metadata": {
        "id": "Ri06hoIMOhZ9"
      }
    },
    {
      "cell_type": "markdown",
      "source": [
        "For our case, `2` dimensional embeddings will be enough. For small datasets, having high embedding dimensionality may cause overfitting. When dataset is bigger, increasing dimensions helps to learn more nuanced relationships in the data, albeit at a higher computational cost."
      ],
      "metadata": {
        "id": "8TFrznqjWiNa"
      }
    },
    {
      "cell_type": "code",
      "source": [
        "X"
      ],
      "metadata": {
        "colab": {
          "base_uri": "https://localhost:8080/"
        },
        "id": "pEf8OtHAXoP-",
        "outputId": "13948585-619f-4c3d-c503-63acbd4da089"
      },
      "execution_count": 51,
      "outputs": [
        {
          "output_type": "execute_result",
          "data": {
            "text/plain": [
              "tensor([[26, 26, 26],\n",
              "        [26, 26,  4],\n",
              "        [26,  4, 12],\n",
              "        [ 4, 12, 12],\n",
              "        [12, 12,  0]])"
            ]
          },
          "metadata": {},
          "execution_count": 51
        }
      ]
    },
    {
      "cell_type": "code",
      "source": [
        "C = torch.randn((SIZE, 2))\n",
        "emb = C[X]\n",
        "emb"
      ],
      "metadata": {
        "colab": {
          "base_uri": "https://localhost:8080/"
        },
        "id": "GsxutGn-PRJY",
        "outputId": "524ef676-1536-483a-e0d6-d1ae4008b2f3"
      },
      "execution_count": 52,
      "outputs": [
        {
          "output_type": "execute_result",
          "data": {
            "text/plain": [
              "tensor([[[-0.6723,  0.3140],\n",
              "         [-0.6723,  0.3140],\n",
              "         [-0.6723,  0.3140]],\n",
              "\n",
              "        [[-0.6723,  0.3140],\n",
              "         [-0.6723,  0.3140],\n",
              "         [-1.4631, -1.0324]],\n",
              "\n",
              "        [[-0.6723,  0.3140],\n",
              "         [-1.4631, -1.0324],\n",
              "         [ 0.6817,  1.5840]],\n",
              "\n",
              "        [[-1.4631, -1.0324],\n",
              "         [ 0.6817,  1.5840],\n",
              "         [ 0.6817,  1.5840]],\n",
              "\n",
              "        [[ 0.6817,  1.5840],\n",
              "         [ 0.6817,  1.5840],\n",
              "         [-0.8068,  0.7403]]])"
            ]
          },
          "metadata": {},
          "execution_count": 52
        }
      ]
    },
    {
      "cell_type": "markdown",
      "source": [
        "Now we will initilaize weights and biases by considering correct shape. In order to be able to use matrix multiplication, we will have to flatten embeddings as well."
      ],
      "metadata": {
        "id": "UrJfI0D9Zg6N"
      }
    },
    {
      "cell_type": "code",
      "source": [
        "emb.shape"
      ],
      "metadata": {
        "colab": {
          "base_uri": "https://localhost:8080/"
        },
        "id": "KkIABp_wahNU",
        "outputId": "88bd9b52-aced-4357-df61-e49b84d367b8"
      },
      "execution_count": 53,
      "outputs": [
        {
          "output_type": "execute_result",
          "data": {
            "text/plain": [
              "torch.Size([5, 3, 2])"
            ]
          },
          "metadata": {},
          "execution_count": 53
        }
      ]
    },
    {
      "cell_type": "markdown",
      "source": [
        "**Question:** What do embedding dimensions correspond to?\n",
        "\n",
        "**Exercise:** Pass embeddings through a single neuron."
      ],
      "metadata": {
        "id": "WYlCXLIzakuD"
      }
    },
    {
      "cell_type": "code",
      "source": [
        "layer_size = 100\n",
        "in_features = emb.shape[1] * emb.shape[2]\n",
        "\n",
        "W1 = torch.randn((in_features, layer_size))\n",
        "b1 = torch.randn(layer_size)\n",
        "\n",
        "out = emb.view(-1, in_features) @ W1 + b1\n",
        "act = torch.tanh(out)\n",
        "\n",
        "W1.shape, b1.shape, out.shape"
      ],
      "metadata": {
        "id": "-lx1mVhcXpES",
        "colab": {
          "base_uri": "https://localhost:8080/"
        },
        "outputId": "503b7d42-9f51-4721-8333-8ea1e08138bd"
      },
      "execution_count": 57,
      "outputs": [
        {
          "output_type": "execute_result",
          "data": {
            "text/plain": [
              "(torch.Size([6, 100]), torch.Size([100]), torch.Size([5, 100]))"
            ]
          },
          "metadata": {},
          "execution_count": 57
        }
      ]
    },
    {
      "cell_type": "code",
      "source": [
        "emb.view(-1, in_features)"
      ],
      "metadata": {
        "colab": {
          "base_uri": "https://localhost:8080/"
        },
        "id": "W8tO7cmFbZWL",
        "outputId": "a0961afc-f87b-4a4b-a533-be2d8484d63c"
      },
      "execution_count": 58,
      "outputs": [
        {
          "output_type": "execute_result",
          "data": {
            "text/plain": [
              "tensor([[-0.6723,  0.3140, -0.6723,  0.3140, -0.6723,  0.3140],\n",
              "        [-0.6723,  0.3140, -0.6723,  0.3140, -1.4631, -1.0324],\n",
              "        [-0.6723,  0.3140, -1.4631, -1.0324,  0.6817,  1.5840],\n",
              "        [-1.4631, -1.0324,  0.6817,  1.5840,  0.6817,  1.5840],\n",
              "        [ 0.6817,  1.5840,  0.6817,  1.5840, -0.8068,  0.7403]])"
            ]
          },
          "metadata": {},
          "execution_count": 58
        }
      ]
    },
    {
      "cell_type": "markdown",
      "source": [
        "**Exercise:** Create the next (final) layer."
      ],
      "metadata": {
        "id": "UHp_iKlhcmDH"
      }
    },
    {
      "cell_type": "code",
      "source": [
        "W2 = torch.randn((layer_size, SIZE))\n",
        "b2 = torch.randn(SIZE)\n",
        "\n",
        "logits = act @ W2 + b2\n",
        "logits.shape"
      ],
      "metadata": {
        "colab": {
          "base_uri": "https://localhost:8080/"
        },
        "id": "dxrHdaiZcK9V",
        "outputId": "2862dbe4-1760-4580-aec4-6bc3c7040812"
      },
      "execution_count": 59,
      "outputs": [
        {
          "output_type": "execute_result",
          "data": {
            "text/plain": [
              "torch.Size([5, 28])"
            ]
          },
          "metadata": {},
          "execution_count": 59
        }
      ]
    },
    {
      "cell_type": "markdown",
      "source": [
        "**Exercise:** Calculate loss."
      ],
      "metadata": {
        "id": "vKU3zS6wdJaZ"
      }
    },
    {
      "cell_type": "code",
      "source": [
        "counts = logits.exp()\n",
        "prob = counts / counts.sum(dim=1, keepdim=True)\n",
        "prob.shape"
      ],
      "metadata": {
        "colab": {
          "base_uri": "https://localhost:8080/"
        },
        "id": "9O4qzNgEc8l8",
        "outputId": "c4c1515f-7c1b-4507-e2f0-acff7b462a51"
      },
      "execution_count": 60,
      "outputs": [
        {
          "output_type": "execute_result",
          "data": {
            "text/plain": [
              "torch.Size([5, 28])"
            ]
          },
          "metadata": {},
          "execution_count": 60
        }
      ]
    },
    {
      "cell_type": "code",
      "source": [
        "loss = -prob[torch.arange(prob.shape[0]), Y].log().mean()\n",
        "loss"
      ],
      "metadata": {
        "colab": {
          "base_uri": "https://localhost:8080/"
        },
        "id": "l8NzSIpBdwEV",
        "outputId": "69b21a7e-9efb-403f-c50b-81aeee9061d4"
      },
      "execution_count": 65,
      "outputs": [
        {
          "output_type": "execute_result",
          "data": {
            "text/plain": [
              "tensor(16.2439)"
            ]
          },
          "metadata": {},
          "execution_count": 65
        }
      ]
    },
    {
      "cell_type": "markdown",
      "source": [
        "Average negative log-likelihood loss can be calculated with built-in `PyTorch` functions as well. **Cross-entropy** is simply `Softmax + Negative Log-Likelihood`."
      ],
      "metadata": {
        "id": "9hV2Q_T1g_RI"
      }
    },
    {
      "cell_type": "code",
      "source": [
        "# loss = F.nll_loss(torch.log(prob), Y)\n",
        "loss = F.cross_entropy(logits, Y)\n",
        "loss"
      ],
      "metadata": {
        "colab": {
          "base_uri": "https://localhost:8080/"
        },
        "id": "3OSkdyw4g-ju",
        "outputId": "d0834ce8-349a-4552-c319-9bdd217c1700"
      },
      "execution_count": 66,
      "outputs": [
        {
          "output_type": "execute_result",
          "data": {
            "text/plain": [
              "tensor(16.2439)"
            ]
          },
          "metadata": {},
          "execution_count": 66
        }
      ]
    },
    {
      "cell_type": "markdown",
      "source": [
        "**Exercise:** Let's combine everything together and train on whole data."
      ],
      "metadata": {
        "id": "Am4QNshshpD-"
      }
    },
    {
      "cell_type": "code",
      "source": [
        "X, Y = get_ngrams(len(words))"
      ],
      "metadata": {
        "id": "J0eVIMMVmCge"
      },
      "execution_count": 96,
      "outputs": []
    },
    {
      "cell_type": "code",
      "source": [
        "C = torch.randn((SIZE, 2), requires_grad=True)\n",
        "emb = C[X]\n",
        "\n",
        "layer_size = 100\n",
        "in_features = emb.shape[1] * emb.shape[2]\n",
        "\n",
        "W1 = torch.randn((in_features, layer_size), requires_grad=True)\n",
        "b1 = torch.randn(layer_size, requires_grad=True)\n",
        "\n",
        "W2 = torch.randn((layer_size, SIZE), requires_grad=True)\n",
        "b2 = torch.randn(SIZE, requires_grad=True)\n",
        "\n",
        "params = [C, W1, W2, b1, b2]"
      ],
      "metadata": {
        "id": "Fq_W3WClhT2E"
      },
      "execution_count": 97,
      "outputs": []
    },
    {
      "cell_type": "code",
      "source": [
        "def train(X, Y, params, num_epochs=10, learning_rate=0.01):\n",
        "  C, W1, W2, b1, b2 = params\n",
        "  for epoch in range(num_epochs):\n",
        "    # forward pass\n",
        "    emb = C[X]\n",
        "    in_features = emb.shape[1] * emb.shape[2]\n",
        "    out = emb.view(-1, in_features) @ W1 + b1\n",
        "    act = torch.tanh(out)\n",
        "    logits = act @ W2 + b2\n",
        "    loss = F.cross_entropy(logits, Y)\n",
        "    print(f'Epoch: {epoch+1}/{num_epochs}, Loss: {loss}')\n",
        "    # backward pass\n",
        "    for p in params:\n",
        "      p.grad = None\n",
        "    loss.backward()\n",
        "    # optimization\n",
        "    for p in params:\n",
        "      p.data -= learning_rate * p.grad"
      ],
      "metadata": {
        "id": "WSXw6Ddsjo1k"
      },
      "execution_count": 100,
      "outputs": []
    },
    {
      "cell_type": "code",
      "source": [
        "train(X, Y, params)"
      ],
      "metadata": {
        "colab": {
          "base_uri": "https://localhost:8080/"
        },
        "id": "c9emPNn_m58o",
        "outputId": "50d9f240-3545-4323-e98d-20958c72999c"
      },
      "execution_count": 101,
      "outputs": [
        {
          "output_type": "stream",
          "name": "stdout",
          "text": [
            "Epoch: 1/10, Loss: 14.651238441467285\n",
            "Epoch: 2/10, Loss: 14.548416137695312\n",
            "Epoch: 3/10, Loss: 14.447701454162598\n",
            "Epoch: 4/10, Loss: 14.349052429199219\n",
            "Epoch: 5/10, Loss: 14.252448081970215\n",
            "Epoch: 6/10, Loss: 14.157876968383789\n",
            "Epoch: 7/10, Loss: 14.065322875976562\n",
            "Epoch: 8/10, Loss: 13.974783897399902\n",
            "Epoch: 9/10, Loss: 13.886248588562012\n",
            "Epoch: 10/10, Loss: 13.799703598022461\n"
          ]
        }
      ]
    },
    {
      "cell_type": "markdown",
      "source": [
        "### Training on Mini-Batches"
      ],
      "metadata": {
        "id": "M6wlXdMaqkFd"
      }
    },
    {
      "cell_type": "markdown",
      "source": [
        "**Exercise:** Notice how slow it is to train on the whole data. Find out why. Can you also train on mini-batches? See the hint below:"
      ],
      "metadata": {
        "id": "P9QzSnhInLK9"
      }
    },
    {
      "cell_type": "code",
      "source": [
        "batch_size = 4\n",
        "idx = torch.randint(0, X.shape[0], (batch_size,))\n",
        "idx, X[idx]"
      ],
      "metadata": {
        "colab": {
          "base_uri": "https://localhost:8080/"
        },
        "id": "srpSYNO9ksVq",
        "outputId": "2d6001b1-24a7-4dd6-8eb1-7bcfdc6e1cd9"
      },
      "execution_count": 102,
      "outputs": [
        {
          "output_type": "execute_result",
          "data": {
            "text/plain": [
              "(tensor([114762,  40173,  66663,  87063]),\n",
              " tensor([[ 7, 11,  4],\n",
              "         [18,  4, 24],\n",
              "         [ 0, 13,  4],\n",
              "         [12,  8, 11]]))"
            ]
          },
          "metadata": {},
          "execution_count": 102
        }
      ]
    },
    {
      "cell_type": "code",
      "source": [
        "def run(X, Y, params, num_epochs, lr=0.1, batch_size=None):\n",
        "  C, W1, W2, b1, b2 = params\n",
        "\n",
        "  for epoch in range(1, num_epochs+1):\n",
        "    if batch_size:\n",
        "      idx = torch.randint(0, X.size(0), (batch_size,))\n",
        "      batch_X, batch_Y = X[idx], Y[idx]\n",
        "    else:\n",
        "      batch_X, batch_Y = X, Y\n",
        "\n",
        "    emb = C[batch_X]\n",
        "    in_features = emb.shape[1] * emb.shape[2]\n",
        "    out = emb.view(-1, in_features) @ W1 + b1\n",
        "    act = torch.tanh(out)\n",
        "    logits = act @ W2 + b2\n",
        "    loss = F.cross_entropy(logits, batch_Y)\n",
        "\n",
        "    if epoch % (100 if batch_size else 1) == 0:\n",
        "      print(f'Epoch {epoch}, Loss {loss.item()}')\n",
        "\n",
        "    for p in params:\n",
        "      p.grad = None\n",
        "    loss.backward()\n",
        "\n",
        "    with torch.no_grad():\n",
        "      for p in params:\n",
        "        p.data -= lr * p.grad"
      ],
      "metadata": {
        "id": "WanHatPNnziW"
      },
      "execution_count": 103,
      "outputs": []
    },
    {
      "cell_type": "code",
      "source": [
        "run(X, Y, params, num_epochs=10, batch_size=None)"
      ],
      "metadata": {
        "colab": {
          "base_uri": "https://localhost:8080/"
        },
        "id": "vMKQzDuyoVYq",
        "outputId": "b5470e24-44c2-4eab-c922-77ff8c18a5fd"
      },
      "execution_count": 104,
      "outputs": [
        {
          "output_type": "stream",
          "name": "stdout",
          "text": [
            "Epoch 1, Loss 13.715128898620605\n",
            "Epoch 2, Loss 12.94245719909668\n",
            "Epoch 3, Loss 12.326409339904785\n",
            "Epoch 4, Loss 11.779574394226074\n",
            "Epoch 5, Loss 11.269842147827148\n",
            "Epoch 6, Loss 10.805395126342773\n",
            "Epoch 7, Loss 10.449189186096191\n",
            "Epoch 8, Loss 10.27437686920166\n",
            "Epoch 9, Loss 9.558894157409668\n",
            "Epoch 10, Loss 9.190631866455078\n"
          ]
        }
      ]
    },
    {
      "cell_type": "code",
      "source": [
        "run(X, Y, params, num_epochs=1000, batch_size=64)"
      ],
      "metadata": {
        "colab": {
          "base_uri": "https://localhost:8080/"
        },
        "id": "WoijeUSPPx_u",
        "outputId": "44fff814-d3f9-49c5-b9bc-ab327f6ea648"
      },
      "execution_count": 105,
      "outputs": [
        {
          "output_type": "stream",
          "name": "stdout",
          "text": [
            "Epoch 100, Loss 2.8726632595062256\n",
            "Epoch 200, Loss 2.904355525970459\n",
            "Epoch 300, Loss 3.114861488342285\n",
            "Epoch 400, Loss 2.7828195095062256\n",
            "Epoch 500, Loss 2.580034017562866\n",
            "Epoch 600, Loss 2.742938995361328\n",
            "Epoch 700, Loss 2.582310676574707\n",
            "Epoch 800, Loss 2.6041131019592285\n",
            "Epoch 900, Loss 2.6011006832122803\n",
            "Epoch 1000, Loss 2.5459964275360107\n"
          ]
        }
      ]
    }
  ]
}