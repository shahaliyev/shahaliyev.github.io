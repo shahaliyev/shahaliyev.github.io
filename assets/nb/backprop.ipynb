{
  "cells": [
    {
      "cell_type": "markdown",
      "metadata": {
        "id": "RIfPGtWcyURZ"
      },
      "source": [
        "# Python Code from Derivatives to Backpropagation\n",
        "\n",
        "Source: https://shahaliyev.org//writings/backprop\n",
        "\n",
        "The following material was initially prepared as a lecture for CSCI 4701: Deep Learning (Spring 2025) course at ADA University. The notebook is mainly based on [Andrej Karpathy's lecture on Micrograd](https://www.youtube.com/watch?v=VMj-3S1tku0&t=6309s).\n",
        "\n",
        "We will go from illustrating differentiation and finding derivatives in Python, all the way down till the implementation of the backpropagation algorithm.\n",
        "\n",
        "### Table of Contents\n",
        "- Differentiation\n",
        "- Partial Derivatives\n",
        "- Micrograd and Computation Graph\n",
        "- Gradient\n",
        "- Chain Rule\n",
        "- Optimization with Gradient Descent\n",
        "- Forward pass\n",
        "- Backward Pass\n",
        "- Training Model with Backpropagation\n",
        "- PyTorch Implementation"
      ]
    },
    {
      "cell_type": "markdown",
      "metadata": {
        "id": "Y4vcCISmKcaq"
      },
      "source": [
        "## Differentiation"
      ]
    },
    {
      "cell_type": "code",
      "execution_count": 1,
      "metadata": {
        "id": "jPyKg5HfJcOu"
      },
      "outputs": [],
      "source": [
        "import numpy as np\n",
        "import matplotlib.pyplot as plt\n",
        "%matplotlib inline"
      ]
    },
    {
      "cell_type": "code",
      "execution_count": 2,
      "metadata": {
        "id": "Nsi6rh__HkDn"
      },
      "outputs": [],
      "source": [
        "def f(x):\n",
        "  return x**2"
      ]
    },
    {
      "cell_type": "code",
      "execution_count": 3,
      "metadata": {
        "colab": {
          "base_uri": "https://localhost:8080/"
        },
        "id": "aI6Lp_iOJyym",
        "outputId": "fb52cfb0-48f9-4230-c5a1-e82e887a0f44"
      },
      "outputs": [
        {
          "name": "stdout",
          "output_type": "stream",
          "text": [
            "If we shift input by 10, output becomes 169.0\n",
            "If we shift input by 1, output becomes 16.0\n",
            "If we shift input by 0.1, output becomes 9.610000000000001\n",
            "If we shift input by 0, output becomes 9.0\n"
          ]
        }
      ],
      "source": [
        "x = 3.0\n",
        "for h in [10, 1, 0.1, 0]:\n",
        "  print(f\"If we shift input by {h}, output becomes {f(x+h)}\")"
      ]
    },
    {
      "cell_type": "code",
      "execution_count": 4,
      "metadata": {
        "colab": {
          "base_uri": "https://localhost:8080/"
        },
        "id": "vXi_sgndLqnU",
        "outputId": "280093e8-db11-49fe-fc1a-d4650df1f372"
      },
      "outputs": [
        {
          "name": "stdout",
          "output_type": "stream",
          "text": [
            "Δx: 1.0\n",
            "Δy: 7.0\n",
            "When you change x by 1.0 unit, y changes by 7.0 units.\n"
          ]
        }
      ],
      "source": [
        "h = 1.0\n",
        "\n",
        "dx = h\n",
        "dy = f(x+h) - f(x)\n",
        "\n",
        "print(f\"Δx: {dx}\")\n",
        "print(f\"Δy: {dy}\")\n",
        "print(f\"When you change x by {dx} unit, y changes by {dy} units.\")"
      ]
    },
    {
      "cell_type": "code",
      "execution_count": 5,
      "metadata": {
        "id": "AVOCfNshsLYg"
      },
      "outputs": [],
      "source": [
        "def plot_delta(x, h, start=-4, stop=4, num=30):\n",
        "  # `np.linspace` returns an array of num inputs within a range.\n",
        "  x_all = np.linspace(start, stop, num)\n",
        "  y_all = f(x_all)\n",
        "\n",
        "  plt.figure(figsize=(4, 4))\n",
        "  plt.plot(x_all, y_all)\n",
        "\n",
        "  # dx & dy\n",
        "  plt.plot([x, x + h], [f(x), f(x)], color='r')\n",
        "  plt.plot([x + h, x + h], [f(x), f(x + h)], color='r')"
      ]
    },
    {
      "cell_type": "code",
      "execution_count": 6,
      "metadata": {
        "colab": {
          "base_uri": "https://localhost:8080/",
          "height": 368
        },
        "id": "vEe98C4KoBmA",
        "outputId": "f9f23591-b1d4-4df9-985c-3f2fee714b3a"
      },
      "outputs": [
        {
          "data": {
            "image/png": "[encoded data removed]",
            "text/plain": [
              "<Figure size 400x400 with 1 Axes>"
            ]
          },
          "metadata": {},
          "output_type": "display_data"
        }
      ],
      "source": [
        "plot_delta(x=2, h=1)"
      ]
    },
    {
      "cell_type": "markdown",
      "metadata": {
        "id": "nTNGlB6wweiZ"
      },
      "source": [
        "How to find if the ouput changes significantly when we change the input by some amount h?"
      ]
    },
    {
      "cell_type": "code",
      "execution_count": 7,
      "metadata": {
        "id": "ot0VqoH2t_Iz"
      },
      "outputs": [],
      "source": [
        "def plot_roc(x, h):\n",
        "  dx = h\n",
        "  dy = f(x + h) - f(x)\n",
        "\n",
        "  plot_delta(x, h)\n",
        "  print(f\"Rate of change is {dy / dx}\")"
      ]
    },
    {
      "cell_type": "code",
      "execution_count": 8,
      "metadata": {
        "colab": {
          "base_uri": "https://localhost:8080/",
          "height": 385
        },
        "id": "5dp4YMQIuMnS",
        "outputId": "278d5403-a7ad-44f4-cf43-840979b10ae6"
      },
      "outputs": [
        {
          "name": "stdout",
          "output_type": "stream",
          "text": [
            "Rate of change is 7.0\n"
          ]
        },
        {
          "data": {
            "image/png": "[encoded data removed]",
            "text/plain": [
              "<Figure size 400x400 with 1 Axes>"
            ]
          },
          "metadata": {},
          "output_type": "display_data"
        }
      ],
      "source": [
        "plot_roc(3, 1)"
      ]
    },
    {
      "cell_type": "code",
      "execution_count": 9,
      "metadata": {
        "colab": {
          "base_uri": "https://localhost:8080/",
          "height": 385
        },
        "id": "uR8Z5ZkMzJ-D",
        "outputId": "1aca1298-96b7-4a40-c15b-dde731343cce"
      },
      "outputs": [
        {
          "name": "stdout",
          "output_type": "stream",
          "text": [
            "Rate of change is 6.5\n"
          ]
        },
        {
          "data": {
            "image/png": "[encoded data removed]",
            "text/plain": [
              "<Figure size 400x400 with 1 Axes>"
            ]
          },
          "metadata": {},
          "output_type": "display_data"
        }
      ],
      "source": [
        "plot_roc(3, 0.5)"
      ]
    },
    {
      "cell_type": "code",
      "execution_count": 10,
      "metadata": {
        "colab": {
          "base_uri": "https://localhost:8080/",
          "height": 385
        },
        "id": "rzIBx0eTxZFm",
        "outputId": "41bf815c-fb2b-4805-f968-2e70dbdc44b5"
      },
      "outputs": [
        {
          "name": "stdout",
          "output_type": "stream",
          "text": [
            "Rate of change is 3.0\n"
          ]
        },
        {
          "data": {
            "image/png": "[encoded data removed]",
            "text/plain": [
              "<Figure size 400x400 with 1 Axes>"
            ]
          },
          "metadata": {},
          "output_type": "display_data"
        }
      ],
      "source": [
        "plot_roc(1, 1)"
      ]
    },
    {
      "cell_type": "code",
      "execution_count": 11,
      "metadata": {
        "colab": {
          "base_uri": "https://localhost:8080/",
          "height": 385
        },
        "id": "GmMFlzUxxusG",
        "outputId": "081ca915-c1db-4070-f915-ba5e199c3bdd"
      },
      "outputs": [
        {
          "name": "stdout",
          "output_type": "stream",
          "text": [
            "Rate of change is -3.5\n"
          ]
        },
        {
          "data": {
            "image/png": "[encoded data removed]",
            "text/plain": [
              "<Figure size 400x400 with 1 Axes>"
            ]
          },
          "metadata": {},
          "output_type": "display_data"
        }
      ],
      "source": [
        "plot_roc(-2, 0.5)"
      ]
    },
    {
      "cell_type": "markdown",
      "metadata": {
        "id": "bOxK9imjytwx"
      },
      "source": [
        "The rate of change for different values of h are different at the same point x. We would like to come up with a single value that would tell how significantly y changes at a given point x within the function (`a` in the formula corresponds to `x` in the code).\n",
        "\n",
        "![image.png](https://wikimedia.org/api/rest_v1/media/math/render/svg/aae79a56cdcbc44af1612a50f06169b07f02cbf3)\n",
        "\n",
        "Simply, this limit tells us how much the value of y will change when we change x by just a very small amount. Note: Essentially, [derivative is a function](https://math.stackexchange.com/questions/4837307/is-the-derivative-of-a-function-a-value-or-is-it-the-derivative-function-of-that#:~:text=The%20derivative%20of%20a%20function%20is%20a%20function%20(say%20d,xex%3Dex.)."
      ]
    },
    {
      "cell_type": "code",
      "execution_count": 12,
      "metadata": {
        "colab": {
          "base_uri": "https://localhost:8080/"
        },
        "id": "vsxGLW4fxzea",
        "outputId": "cdb7a364-a1bd-4822-f1cc-f8420d2f2a76"
      },
      "outputs": [
        {
          "name": "stdout",
          "output_type": "stream",
          "text": [
            "The value of derivative function is 6.000001000927568\n"
          ]
        }
      ],
      "source": [
        "x = 3\n",
        "h = 0.000001 # limit of h approaches 0\n",
        "d = (f(x + h) - f(x)) / h\n",
        "print(f\"The value of derivative function is {d}\")"
      ]
    },
    {
      "cell_type": "markdown",
      "metadata": {
        "id": "VKNEz3FbLViS"
      },
      "source": [
        "## Partial Derivatives"
      ]
    },
    {
      "cell_type": "markdown",
      "metadata": {
        "id": "jLEPBXhiSf1A"
      },
      "source": [
        "Partial derivative with respect to some variable basically means how much the output will change when we nudge that variable by a very small amount.\n"
      ]
    },
    {
      "cell_type": "markdown",
      "metadata": {
        "id": "Go6bTiksXqum"
      },
      "source": [
        "### Addition"
      ]
    },
    {
      "cell_type": "code",
      "execution_count": 13,
      "metadata": {
        "id": "69jBpL8yVxQM"
      },
      "outputs": [],
      "source": [
        "f = lambda x, y: x + y"
      ]
    },
    {
      "cell_type": "code",
      "execution_count": 14,
      "metadata": {
        "colab": {
          "base_uri": "https://localhost:8080/"
        },
        "id": "ldKHc44YWgug",
        "outputId": "86063285-5540-4aaf-b83a-1d91207e8960"
      },
      "outputs": [
        {
          "data": {
            "text/plain": [
              "5"
            ]
          },
          "execution_count": 14,
          "metadata": {},
          "output_type": "execute_result"
        }
      ],
      "source": [
        "x = 2\n",
        "y = 3\n",
        "\n",
        "f(x, y)"
      ]
    },
    {
      "cell_type": "code",
      "execution_count": 15,
      "metadata": {
        "colab": {
          "base_uri": "https://localhost:8080/"
        },
        "id": "ojGkQEtCXvna",
        "outputId": "060fe7ca-d420-4db6-b032-4daf6f4d1bce"
      },
      "outputs": [
        {
          "data": {
            "text/plain": [
              "5.000001"
            ]
          },
          "execution_count": 15,
          "metadata": {},
          "output_type": "execute_result"
        }
      ],
      "source": [
        "h = 0.000001\n",
        "f(x + h, y)"
      ]
    },
    {
      "cell_type": "markdown",
      "metadata": {
        "id": "kpxISXaLOKGn"
      },
      "source": [
        "Let’s see partial derivatives with respect to x an y."
      ]
    },
    {
      "cell_type": "code",
      "execution_count": 16,
      "metadata": {
        "colab": {
          "base_uri": "https://localhost:8080/"
        },
        "id": "KW6zQ4jhYora",
        "outputId": "91d50f04-7f44-4aff-e51b-8f3db7ee09c6"
      },
      "outputs": [
        {
          "data": {
            "text/plain": [
              "1.000000000139778"
            ]
          },
          "execution_count": 16,
          "metadata": {},
          "output_type": "execute_result"
        }
      ],
      "source": [
        "# wrt x\n",
        "(f(x + h, y) - f(x, y)) / h"
      ]
    },
    {
      "cell_type": "code",
      "execution_count": 17,
      "metadata": {
        "colab": {
          "base_uri": "https://localhost:8080/"
        },
        "id": "UHA3IkFrY6An",
        "outputId": "3e28d3de-151f-4c02-8317-b262744435c1"
      },
      "outputs": [
        {
          "data": {
            "text/plain": [
              "1.000000000139778"
            ]
          },
          "execution_count": 17,
          "metadata": {},
          "output_type": "execute_result"
        }
      ],
      "source": [
        "# wrt y\n",
        "(f(x, y+h) - f(x, y)) / h"
      ]
    },
    {
      "cell_type": "markdown",
      "metadata": {
        "id": "nmDVzivkOOOg"
      },
      "source": [
        "It will always approach 1 for addition, no matter what are the input values."
      ]
    },
    {
      "cell_type": "code",
      "execution_count": 18,
      "metadata": {
        "colab": {
          "base_uri": "https://localhost:8080/"
        },
        "id": "6wANkr8wZFIw",
        "outputId": "7834d30e-d7b7-4abe-db8a-5e41e0880dab"
      },
      "outputs": [
        {
          "name": "stdout",
          "output_type": "stream",
          "text": [
            "x=-20, y=300: 0.9999999974752427\n",
            "x=2, y=75: 0.9999999974752427\n",
            "x=3, y=10: 1.0000000010279564\n"
          ]
        }
      ],
      "source": [
        "for x, y in zip([-20, 2, 3], [300, 75, 10]):\n",
        "  print(f'x={x}, y={y}: {(f(x + h, y) - f(x, y)) / h}')"
      ]
    },
    {
      "cell_type": "markdown",
      "metadata": {
        "id": "91eZs7FUZZJi"
      },
      "source": [
        "Indeed, if we have simple addition x + y, then increasing x or y by some amount will increase the result by the exact same amount. Assertion will work for any number h gets."
      ]
    },
    {
      "cell_type": "code",
      "execution_count": 19,
      "metadata": {
        "id": "6Q0h4w8BaAc1"
      },
      "outputs": [],
      "source": [
        "h = 10\n",
        "assert f(x+h, y) - f(x, y) == h\n",
        "assert f(x, y+h) - f(x, y) == h"
      ]
    },
    {
      "cell_type": "markdown",
      "metadata": {
        "id": "6VkaEOP0bC_6"
      },
      "source": [
        "### Multiplication"
      ]
    },
    {
      "cell_type": "code",
      "execution_count": 20,
      "metadata": {
        "id": "ab5AicsVbH1E"
      },
      "outputs": [],
      "source": [
        "f = lambda x, y: x * y"
      ]
    },
    {
      "cell_type": "code",
      "execution_count": 21,
      "metadata": {
        "colab": {
          "base_uri": "https://localhost:8080/"
        },
        "id": "E4iow7oQb1qp",
        "outputId": "a5e802a8-bab2-4a57-a2a3-a252104b6f24"
      },
      "outputs": [
        {
          "data": {
            "text/plain": [
              "3.000000000064062"
            ]
          },
          "execution_count": 21,
          "metadata": {},
          "output_type": "execute_result"
        }
      ],
      "source": [
        "x = 2\n",
        "y = 3\n",
        "h = 1e-5 # same as 0.00001\n",
        "(f(x + h, y) - f(x, y)) / h # wrt x"
      ]
    },
    {
      "cell_type": "code",
      "execution_count": 22,
      "metadata": {
        "colab": {
          "base_uri": "https://localhost:8080/"
        },
        "id": "lOCh4FXsczZ4",
        "outputId": "497546e8-6d4b-4d60-ec36-f68c31e8bc42"
      },
      "outputs": [
        {
          "name": "stdout",
          "output_type": "stream",
          "text": [
            "x=-20, y=3: 2.999999999531155\n",
            "x=2, y=3: 3.000000000064062\n",
            "x=3, y=3: 3.000000000064062\n"
          ]
        }
      ],
      "source": [
        "for x in [-20, 2, 3]:\n",
        "  print(f'x={x}, y={y}: {(f(x + h, y) - f(x, y)) / h}')"
      ]
    },
    {
      "cell_type": "code",
      "execution_count": 23,
      "metadata": {
        "colab": {
          "base_uri": "https://localhost:8080/"
        },
        "id": "NId3z2dQdbrA",
        "outputId": "cb4c7569-272d-4aa7-aa15-a0f3dc1874a8"
      },
      "outputs": [
        {
          "name": "stdout",
          "output_type": "stream",
          "text": [
            "3.0 3\n"
          ]
        }
      ],
      "source": [
        "x = 10\n",
        "h = 5\n",
        "pdx = (f(x+h, y) - f(x, y)) / h\n",
        "print(pdx, y)\n",
        "assert round(pdx, 2) == round(y, 2)"
      ]
    },
    {
      "cell_type": "markdown",
      "metadata": {
        "id": "b4U6EydyWp64"
      },
      "source": [
        "### Complex"
      ]
    },
    {
      "cell_type": "code",
      "execution_count": 24,
      "metadata": {
        "id": "0bYBDlIkLXKz"
      },
      "outputs": [],
      "source": [
        "def f(a, b, c):\n",
        "  return a**2 + b**3 - c"
      ]
    },
    {
      "cell_type": "code",
      "execution_count": 25,
      "metadata": {
        "colab": {
          "base_uri": "https://localhost:8080/"
        },
        "id": "cgncoWhbSFeU",
        "outputId": "9d459d79-a853-4339-bdd0-37a89b4aafdc"
      },
      "outputs": [
        {
          "data": {
            "text/plain": [
              "27"
            ]
          },
          "execution_count": 25,
          "metadata": {},
          "output_type": "execute_result"
        }
      ],
      "source": [
        "a = 2\n",
        "b = 3\n",
        "c = 4\n",
        "\n",
        "f(a, b, c)"
      ]
    },
    {
      "cell_type": "code",
      "execution_count": 26,
      "metadata": {
        "colab": {
          "base_uri": "https://localhost:8080/"
        },
        "id": "71zFUcF-SMHr",
        "outputId": "814ce206-d88c-4757-9a06-486f6e9c5f3b"
      },
      "outputs": [
        {
          "data": {
            "text/plain": [
              "32"
            ]
          },
          "execution_count": 26,
          "metadata": {},
          "output_type": "execute_result"
        }
      ],
      "source": [
        "h = 1\n",
        "\n",
        "f(a + h, b, c)"
      ]
    },
    {
      "cell_type": "code",
      "execution_count": 27,
      "metadata": {
        "colab": {
          "base_uri": "https://localhost:8080/"
        },
        "id": "cowkpjobSrRV",
        "outputId": "ef2e846b-01ee-4a23-dd96-ed6f0c39a9ab"
      },
      "outputs": [
        {
          "data": {
            "text/plain": [
              "5"
            ]
          },
          "execution_count": 27,
          "metadata": {},
          "output_type": "execute_result"
        }
      ],
      "source": [
        "f(a + h, b, c) - f(a, b, c)"
      ]
    },
    {
      "cell_type": "code",
      "execution_count": 28,
      "metadata": {
        "colab": {
          "base_uri": "https://localhost:8080/"
        },
        "id": "0fA5lI49TAyw",
        "outputId": "475c6ea5-6261-4bd1-ba9c-7be53c09b778"
      },
      "outputs": [
        {
          "data": {
            "text/plain": [
              "5.0"
            ]
          },
          "execution_count": 28,
          "metadata": {},
          "output_type": "execute_result"
        }
      ],
      "source": [
        "(f(a + h, b, c) - f(a, b, c)) / h"
      ]
    },
    {
      "cell_type": "code",
      "execution_count": 29,
      "metadata": {
        "colab": {
          "base_uri": "https://localhost:8080/"
        },
        "id": "uNY89h-iTQr5",
        "outputId": "2f2d4419-57ec-4959-83eb-917c79d969b4"
      },
      "outputs": [
        {
          "data": {
            "text/plain": [
              "4.000010000027032"
            ]
          },
          "execution_count": 29,
          "metadata": {},
          "output_type": "execute_result"
        }
      ],
      "source": [
        "h = 0.00001 # when the change is approaching zero\n",
        "pda = (f(a + h, b, c) - f(a, b, c)) / h\n",
        "pda"
      ]
    },
    {
      "cell_type": "code",
      "execution_count": 30,
      "metadata": {
        "id": "vKk-pI3pUmy1"
      },
      "outputs": [],
      "source": [
        "assert 2*a == round(pda)"
      ]
    },
    {
      "cell_type": "markdown",
      "metadata": {
        "id": "ACw2ZZmAT8zv"
      },
      "source": [
        "Our function was <code>f(a,b,c) = a<sup>2</sup>+b<sup>3</sup>-c</code>. Partial derivative with respect to a is `2a` (by the power rule), and when `a=2` indeed we get 4.\n",
        "\n",
        "**Exercise:** Code the partial derivative with respect to b and c and verify if the result correct."
      ]
    },
    {
      "cell_type": "markdown",
      "metadata": {
        "id": "zPzEU3Nm6ki-"
      },
      "source": [
        "## Micrograd and Computation Graph\n",
        "Based on Karpathy's https://github.com/karpathy/micrograd"
      ]
    },
    {
      "cell_type": "code",
      "execution_count": 31,
      "metadata": {
        "id": "vBdVCLBmDQgY"
      },
      "outputs": [],
      "source": [
        "# This is a graph visualization code from micrograd, no need to understand the details\n",
        "# https://github.com/karpathy/micrograd/blob/master/trace_graph.ipynb\n",
        "from graphviz import Digraph\n",
        "\n",
        "def trace(root):\n",
        "    nodes, edges = set(), set()\n",
        "    def build(v):\n",
        "        if v not in nodes:\n",
        "            nodes.add(v)\n",
        "            for child in v._prev:\n",
        "                edges.add((child, v))\n",
        "                build(child)\n",
        "    build(root)\n",
        "    return nodes, edges\n",
        "\n",
        "def draw_dot(root, format='svg', rankdir='LR'):\n",
        "    \"\"\"\n",
        "    format: png | svg | ...\n",
        "    rankdir: TB (top to bottom graph) | LR (left to right)\n",
        "    \"\"\"\n",
        "    assert rankdir in ['LR', 'TB']\n",
        "    nodes, edges = trace(root)\n",
        "    dot = Digraph(format=format, graph_attr={'rankdir': rankdir}) #, node_attr={'rankdir': 'TB'})\n",
        "\n",
        "    for n in nodes:\n",
        "        dot.node(name=str(id(n)), label = \"{ %s | data %.3f | grad %.3f }\" % (n.label, n.data, n.grad), shape='record')\n",
        "        if n._op:\n",
        "            dot.node(name=str(id(n)) + n._op, label=n._op)\n",
        "            dot.edge(str(id(n)) + n._op, str(id(n)))\n",
        "\n",
        "    for n1, n2 in edges:\n",
        "        dot.edge(str(id(n1)), str(id(n2)) + n2._op)\n",
        "\n",
        "    return dot"
      ]
    },
    {
      "cell_type": "code",
      "execution_count": 32,
      "metadata": {
        "id": "EXLQbqRz3gEx"
      },
      "outputs": [],
      "source": [
        "# Value class stores a number and \"remembers\" information about its origins\n",
        "class Value:\n",
        "  def __init__(self, data, _prev=(), _op='', label=''):\n",
        "    self.data = data\n",
        "    self._prev = _prev\n",
        "    self._op = _op\n",
        "    self.label = label\n",
        "    self.grad = 0\n",
        "\n",
        "  def __add__(self, other):\n",
        "    data = self.data + other.data\n",
        "    out = Value(data, (self, other), '+')\n",
        "    return out\n",
        "\n",
        "  def __mul__(self, other):\n",
        "    data = self.data * other.data\n",
        "    out = Value(data, (self, other), \"*\")\n",
        "    return out\n",
        "\n",
        "  def __repr__(self):\n",
        "    return f\"Value(data={self.data}, grad={self.grad})\""
      ]
    },
    {
      "cell_type": "code",
      "execution_count": 33,
      "metadata": {
        "id": "398NAgL-AXsy"
      },
      "outputs": [],
      "source": [
        "a = Value(5, label='a')\n",
        "b = Value(3, label='b')\n",
        "c = a + b; c.label = 'c'\n",
        "d = Value(10, label='d')\n",
        "L = c * d; L.label = 'L'"
      ]
    },
    {
      "cell_type": "code",
      "execution_count": 34,
      "metadata": {
        "colab": {
          "base_uri": "https://localhost:8080/"
        },
        "id": "FaWe-szwj8n5",
        "outputId": "ff5ba04a-0000-47b1-f704-3c8e61d135f8"
      },
      "outputs": [
        {
          "name": "stdout",
          "output_type": "stream",
          "text": [
            "Value(data=5, grad=0) ()\n",
            "Value(data=80, grad=0) (Value(data=8, grad=0), Value(data=10, grad=0))\n"
          ]
        }
      ],
      "source": [
        "print(a, a._prev)\n",
        "print(L, L._prev)"
      ]
    },
    {
      "cell_type": "code",
      "execution_count": 35,
      "metadata": {
        "colab": {
          "base_uri": "https://localhost:8080/",
          "height": 155
        },
        "id": "5wgL8nz1Fokv",
        "outputId": "8ca410fc-79db-42f9-85cd-d09070a49679"
      },
      "outputs": [
        {
          "data": {
            "image/svg+xml": [
              "<?xml version=\"1.0\" encoding=\"UTF-8\" standalone=\"no\"?>\n",
              "<!DOCTYPE svg PUBLIC \"-//W3C//DTD SVG 1.1//EN\"\n",
              " \"http://www.w3.org/Graphics/SVG/1.1/DTD/svg11.dtd\">\n",
              "<!-- Generated by graphviz version 2.43.0 (0)\n",
              " -->\n",
              "<!-- Title: %3 Pages: 1 -->\n",
              "<svg width=\"478pt\" height=\"100pt\"\n",
              " viewBox=\"0.00 0.00 478.00 100.00\" xmlns=\"http://www.w3.org/2000/svg\" xmlns:xlink=\"http://www.w3.org/1999/xlink\">\n",
              "<g id=\"graph0\" class=\"graph\" transform=\"scale(1 1) rotate(0) translate(4 96)\">\n",
              "<title>%3</title>\n",
              "<polygon fill=\"white\" stroke=\"transparent\" points=\"-4,4 -4,-96 474,-96 474,4 -4,4\"/>\n",
              "<!-- 139776869958544 -->\n",
              "<g id=\"node1\" class=\"node\">\n",
              "<title>139776869958544</title>\n",
              "<polygon fill=\"none\" stroke=\"black\" points=\"0,-55.5 0,-91.5 172,-91.5 172,-55.5 0,-55.5\"/>\n",
              "<text text-anchor=\"middle\" x=\"11.5\" y=\"-69.8\" font-family=\"Times,serif\" font-size=\"14.00\">a</text>\n",
              "<polyline fill=\"none\" stroke=\"black\" points=\"23,-55.5 23,-91.5 \"/>\n",
              "<text text-anchor=\"middle\" x=\"60\" y=\"-69.8\" font-family=\"Times,serif\" font-size=\"14.00\">data 5.000</text>\n",
              "<polyline fill=\"none\" stroke=\"black\" points=\"97,-55.5 97,-91.5 \"/>\n",
              "<text text-anchor=\"middle\" x=\"134.5\" y=\"-69.8\" font-family=\"Times,serif\" font-size=\"14.00\">grad 0.000</text>\n",
              "</g>\n",
              "<!-- 139776878798544+ -->\n",
              "<g id=\"node4\" class=\"node\">\n",
              "<title>139776878798544+</title>\n",
              "<ellipse fill=\"none\" stroke=\"black\" cx=\"235\" cy=\"-45.5\" rx=\"27\" ry=\"18\"/>\n",
              "<text text-anchor=\"middle\" x=\"235\" y=\"-41.8\" font-family=\"Times,serif\" font-size=\"14.00\">+</text>\n",
              "</g>\n",
              "<!-- 139776869958544&#45;&gt;139776878798544+ -->\n",
              "<g id=\"edge2\" class=\"edge\">\n",
              "<title>139776869958544&#45;&gt;139776878798544+</title>\n",
              "<path fill=\"none\" stroke=\"black\" d=\"M172.08,-57.29C181.46,-55.51 190.58,-53.77 198.81,-52.2\"/>\n",
              "<polygon fill=\"black\" stroke=\"black\" points=\"199.54,-55.63 208.7,-50.32 198.23,-48.75 199.54,-55.63\"/>\n",
              "</g>\n",
              "<!-- 139776869963600 -->\n",
              "<g id=\"node2\" class=\"node\">\n",
              "<title>139776869963600</title>\n",
              "<polygon fill=\"none\" stroke=\"black\" points=\"0,-0.5 0,-36.5 172,-36.5 172,-0.5 0,-0.5\"/>\n",
              "<text text-anchor=\"middle\" x=\"11.5\" y=\"-14.8\" font-family=\"Times,serif\" font-size=\"14.00\">b</text>\n",
              "<polyline fill=\"none\" stroke=\"black\" points=\"23,-0.5 23,-36.5 \"/>\n",
              "<text text-anchor=\"middle\" x=\"60\" y=\"-14.8\" font-family=\"Times,serif\" font-size=\"14.00\">data 3.000</text>\n",
              "<polyline fill=\"none\" stroke=\"black\" points=\"97,-0.5 97,-36.5 \"/>\n",
              "<text text-anchor=\"middle\" x=\"134.5\" y=\"-14.8\" font-family=\"Times,serif\" font-size=\"14.00\">grad 0.000</text>\n",
              "</g>\n",
              "<!-- 139776869963600&#45;&gt;139776878798544+ -->\n",
              "<g id=\"edge3\" class=\"edge\">\n",
              "<title>139776869963600&#45;&gt;139776878798544+</title>\n",
              "<path fill=\"none\" stroke=\"black\" d=\"M172.08,-34.13C181.46,-35.85 190.58,-37.52 198.81,-39.04\"/>\n",
              "<polygon fill=\"black\" stroke=\"black\" points=\"198.24,-42.49 208.7,-40.85 199.5,-35.6 198.24,-42.49\"/>\n",
              "</g>\n",
              "<!-- 139776878798544 -->\n",
              "<g id=\"node3\" class=\"node\">\n",
              "<title>139776878798544</title>\n",
              "<polygon fill=\"none\" stroke=\"black\" points=\"298,-27.5 298,-63.5 470,-63.5 470,-27.5 298,-27.5\"/>\n",
              "<text text-anchor=\"middle\" x=\"309.5\" y=\"-41.8\" font-family=\"Times,serif\" font-size=\"14.00\">c</text>\n",
              "<polyline fill=\"none\" stroke=\"black\" points=\"321,-27.5 321,-63.5 \"/>\n",
              "<text text-anchor=\"middle\" x=\"358\" y=\"-41.8\" font-family=\"Times,serif\" font-size=\"14.00\">data 8.000</text>\n",
              "<polyline fill=\"none\" stroke=\"black\" points=\"395,-27.5 395,-63.5 \"/>\n",
              "<text text-anchor=\"middle\" x=\"432.5\" y=\"-41.8\" font-family=\"Times,serif\" font-size=\"14.00\">grad 0.000</text>\n",
              "</g>\n",
              "<!-- 139776878798544+&#45;&gt;139776878798544 -->\n",
              "<g id=\"edge1\" class=\"edge\">\n",
              "<title>139776878798544+&#45;&gt;139776878798544</title>\n",
              "<path fill=\"none\" stroke=\"black\" d=\"M262.28,-45.5C269.8,-45.5 278.46,-45.5 287.63,-45.5\"/>\n",
              "<polygon fill=\"black\" stroke=\"black\" points=\"287.74,-49 297.74,-45.5 287.74,-42 287.74,-49\"/>\n",
              "</g>\n",
              "</g>\n",
              "</svg>\n"
            ],
            "text/plain": [
              "<graphviz.graphs.Digraph at 0x7f2056ae9150>"
            ]
          },
          "execution_count": 35,
          "metadata": {},
          "output_type": "execute_result"
        }
      ],
      "source": [
        "draw_dot(c)"
      ]
    },
    {
      "cell_type": "code",
      "execution_count": 36,
      "metadata": {
        "colab": {
          "base_uri": "https://localhost:8080/",
          "height": 191
        },
        "id": "z7CCdkxcJgAo",
        "outputId": "c5857cc5-ad54-48f1-b66f-a1f8b85a6c16"
      },
      "outputs": [
        {
          "data": {
            "image/svg+xml": [
              "<?xml version=\"1.0\" encoding=\"UTF-8\" standalone=\"no\"?>\n",
              "<!DOCTYPE svg PUBLIC \"-//W3C//DTD SVG 1.1//EN\"\n",
              " \"http://www.w3.org/Graphics/SVG/1.1/DTD/svg11.dtd\">\n",
              "<!-- Generated by graphviz version 2.43.0 (0)\n",
              " -->\n",
              "<!-- Title: %3 Pages: 1 -->\n",
              "<svg width=\"790pt\" height=\"127pt\"\n",
              " viewBox=\"0.00 0.00 790.00 127.00\" xmlns=\"http://www.w3.org/2000/svg\" xmlns:xlink=\"http://www.w3.org/1999/xlink\">\n",
              "<g id=\"graph0\" class=\"graph\" transform=\"scale(1 1) rotate(0) translate(4 123)\">\n",
              "<title>%3</title>\n",
              "<polygon fill=\"white\" stroke=\"transparent\" points=\"-4,4 -4,-123 786,-123 786,4 -4,4\"/>\n",
              "<!-- 139776869969040 -->\n",
              "<g id=\"node1\" class=\"node\">\n",
              "<title>139776869969040</title>\n",
              "<polygon fill=\"none\" stroke=\"black\" points=\"298,-82.5 298,-118.5 476,-118.5 476,-82.5 298,-82.5\"/>\n",
              "<text text-anchor=\"middle\" x=\"309.5\" y=\"-96.8\" font-family=\"Times,serif\" font-size=\"14.00\">d</text>\n",
              "<polyline fill=\"none\" stroke=\"black\" points=\"321,-82.5 321,-118.5 \"/>\n",
              "<text text-anchor=\"middle\" x=\"361\" y=\"-96.8\" font-family=\"Times,serif\" font-size=\"14.00\">data 10.000</text>\n",
              "<polyline fill=\"none\" stroke=\"black\" points=\"401,-82.5 401,-118.5 \"/>\n",
              "<text text-anchor=\"middle\" x=\"438.5\" y=\"-96.8\" font-family=\"Times,serif\" font-size=\"14.00\">grad 0.000</text>\n",
              "</g>\n",
              "<!-- 139776869964688* -->\n",
              "<g id=\"node6\" class=\"node\">\n",
              "<title>139776869964688*</title>\n",
              "<ellipse fill=\"none\" stroke=\"black\" cx=\"539\" cy=\"-72.5\" rx=\"27\" ry=\"18\"/>\n",
              "<text text-anchor=\"middle\" x=\"539\" y=\"-68.8\" font-family=\"Times,serif\" font-size=\"14.00\">*</text>\n",
              "</g>\n",
              "<!-- 139776869969040&#45;&gt;139776869964688* -->\n",
              "<g id=\"edge3\" class=\"edge\">\n",
              "<title>139776869969040&#45;&gt;139776869964688*</title>\n",
              "<path fill=\"none\" stroke=\"black\" d=\"M476.12,-84.05C485.54,-82.29 494.67,-80.59 502.9,-79.05\"/>\n",
              "<polygon fill=\"black\" stroke=\"black\" points=\"503.6,-82.48 512.79,-77.21 502.32,-75.6 503.6,-82.48\"/>\n",
              "</g>\n",
              "<!-- 139776878798544 -->\n",
              "<g id=\"node2\" class=\"node\">\n",
              "<title>139776878798544</title>\n",
              "<polygon fill=\"none\" stroke=\"black\" points=\"301,-27.5 301,-63.5 473,-63.5 473,-27.5 301,-27.5\"/>\n",
              "<text text-anchor=\"middle\" x=\"312.5\" y=\"-41.8\" font-family=\"Times,serif\" font-size=\"14.00\">c</text>\n",
              "<polyline fill=\"none\" stroke=\"black\" points=\"324,-27.5 324,-63.5 \"/>\n",
              "<text text-anchor=\"middle\" x=\"361\" y=\"-41.8\" font-family=\"Times,serif\" font-size=\"14.00\">data 8.000</text>\n",
              "<polyline fill=\"none\" stroke=\"black\" points=\"398,-27.5 398,-63.5 \"/>\n",
              "<text text-anchor=\"middle\" x=\"435.5\" y=\"-41.8\" font-family=\"Times,serif\" font-size=\"14.00\">grad 0.000</text>\n",
              "</g>\n",
              "<!-- 139776878798544&#45;&gt;139776869964688* -->\n",
              "<g id=\"edge4\" class=\"edge\">\n",
              "<title>139776878798544&#45;&gt;139776869964688*</title>\n",
              "<path fill=\"none\" stroke=\"black\" d=\"M473.08,-60.81C483.44,-62.68 493.54,-64.5 502.57,-66.12\"/>\n",
              "<polygon fill=\"black\" stroke=\"black\" points=\"502.16,-69.61 512.62,-67.93 503.4,-62.72 502.16,-69.61\"/>\n",
              "</g>\n",
              "<!-- 139776878798544+ -->\n",
              "<g id=\"node3\" class=\"node\">\n",
              "<title>139776878798544+</title>\n",
              "<ellipse fill=\"none\" stroke=\"black\" cx=\"235\" cy=\"-45.5\" rx=\"27\" ry=\"18\"/>\n",
              "<text text-anchor=\"middle\" x=\"235\" y=\"-41.8\" font-family=\"Times,serif\" font-size=\"14.00\">+</text>\n",
              "</g>\n",
              "<!-- 139776878798544+&#45;&gt;139776878798544 -->\n",
              "<g id=\"edge1\" class=\"edge\">\n",
              "<title>139776878798544+&#45;&gt;139776878798544</title>\n",
              "<path fill=\"none\" stroke=\"black\" d=\"M262.13,-45.5C270.52,-45.5 280.37,-45.5 290.77,-45.5\"/>\n",
              "<polygon fill=\"black\" stroke=\"black\" points=\"290.89,-49 300.89,-45.5 290.89,-42 290.89,-49\"/>\n",
              "</g>\n",
              "<!-- 139776869963600 -->\n",
              "<g id=\"node4\" class=\"node\">\n",
              "<title>139776869963600</title>\n",
              "<polygon fill=\"none\" stroke=\"black\" points=\"0,-55.5 0,-91.5 172,-91.5 172,-55.5 0,-55.5\"/>\n",
              "<text text-anchor=\"middle\" x=\"11.5\" y=\"-69.8\" font-family=\"Times,serif\" font-size=\"14.00\">b</text>\n",
              "<polyline fill=\"none\" stroke=\"black\" points=\"23,-55.5 23,-91.5 \"/>\n",
              "<text text-anchor=\"middle\" x=\"60\" y=\"-69.8\" font-family=\"Times,serif\" font-size=\"14.00\">data 3.000</text>\n",
              "<polyline fill=\"none\" stroke=\"black\" points=\"97,-55.5 97,-91.5 \"/>\n",
              "<text text-anchor=\"middle\" x=\"134.5\" y=\"-69.8\" font-family=\"Times,serif\" font-size=\"14.00\">grad 0.000</text>\n",
              "</g>\n",
              "<!-- 139776869963600&#45;&gt;139776878798544+ -->\n",
              "<g id=\"edge6\" class=\"edge\">\n",
              "<title>139776869963600&#45;&gt;139776878798544+</title>\n",
              "<path fill=\"none\" stroke=\"black\" d=\"M172.08,-57.29C181.46,-55.51 190.58,-53.77 198.81,-52.2\"/>\n",
              "<polygon fill=\"black\" stroke=\"black\" points=\"199.54,-55.63 208.7,-50.32 198.23,-48.75 199.54,-55.63\"/>\n",
              "</g>\n",
              "<!-- 139776869964688 -->\n",
              "<g id=\"node5\" class=\"node\">\n",
              "<title>139776869964688</title>\n",
              "<polygon fill=\"none\" stroke=\"black\" points=\"602,-54.5 602,-90.5 782,-90.5 782,-54.5 602,-54.5\"/>\n",
              "<text text-anchor=\"middle\" x=\"614.5\" y=\"-68.8\" font-family=\"Times,serif\" font-size=\"14.00\">L</text>\n",
              "<polyline fill=\"none\" stroke=\"black\" points=\"627,-54.5 627,-90.5 \"/>\n",
              "<text text-anchor=\"middle\" x=\"667\" y=\"-68.8\" font-family=\"Times,serif\" font-size=\"14.00\">data 80.000</text>\n",
              "<polyline fill=\"none\" stroke=\"black\" points=\"707,-54.5 707,-90.5 \"/>\n",
              "<text text-anchor=\"middle\" x=\"744.5\" y=\"-68.8\" font-family=\"Times,serif\" font-size=\"14.00\">grad 0.000</text>\n",
              "</g>\n",
              "<!-- 139776869964688*&#45;&gt;139776869964688 -->\n",
              "<g id=\"edge2\" class=\"edge\">\n",
              "<title>139776869964688*&#45;&gt;139776869964688</title>\n",
              "<path fill=\"none\" stroke=\"black\" d=\"M566.3,-72.5C573.81,-72.5 582.47,-72.5 591.65,-72.5\"/>\n",
              "<polygon fill=\"black\" stroke=\"black\" points=\"591.79,-76 601.79,-72.5 591.79,-69 591.79,-76\"/>\n",
              "</g>\n",
              "<!-- 139776869958544 -->\n",
              "<g id=\"node7\" class=\"node\">\n",
              "<title>139776869958544</title>\n",
              "<polygon fill=\"none\" stroke=\"black\" points=\"0,-0.5 0,-36.5 172,-36.5 172,-0.5 0,-0.5\"/>\n",
              "<text text-anchor=\"middle\" x=\"11.5\" y=\"-14.8\" font-family=\"Times,serif\" font-size=\"14.00\">a</text>\n",
              "<polyline fill=\"none\" stroke=\"black\" points=\"23,-0.5 23,-36.5 \"/>\n",
              "<text text-anchor=\"middle\" x=\"60\" y=\"-14.8\" font-family=\"Times,serif\" font-size=\"14.00\">data 5.000</text>\n",
              "<polyline fill=\"none\" stroke=\"black\" points=\"97,-0.5 97,-36.5 \"/>\n",
              "<text text-anchor=\"middle\" x=\"134.5\" y=\"-14.8\" font-family=\"Times,serif\" font-size=\"14.00\">grad 0.000</text>\n",
              "</g>\n",
              "<!-- 139776869958544&#45;&gt;139776878798544+ -->\n",
              "<g id=\"edge5\" class=\"edge\">\n",
              "<title>139776869958544&#45;&gt;139776878798544+</title>\n",
              "<path fill=\"none\" stroke=\"black\" d=\"M172.08,-34.13C181.46,-35.85 190.58,-37.52 198.81,-39.04\"/>\n",
              "<polygon fill=\"black\" stroke=\"black\" points=\"198.24,-42.49 208.7,-40.85 199.5,-35.6 198.24,-42.49\"/>\n",
              "</g>\n",
              "</g>\n",
              "</svg>\n"
            ],
            "text/plain": [
              "<graphviz.graphs.Digraph at 0x7f2056a8b090>"
            ]
          },
          "execution_count": 36,
          "metadata": {},
          "output_type": "execute_result"
        }
      ],
      "source": [
        "draw_dot(L)"
      ]
    },
    {
      "cell_type": "markdown",
      "metadata": {
        "id": "lW-7N9P3wEkZ"
      },
      "source": [
        "## Gradient"
      ]
    },
    {
      "cell_type": "markdown",
      "metadata": {
        "id": "dDR7yaPjjeMM"
      },
      "source": [
        "Gradient is vector of [partial derivatives](https://stats.stackexchange.com/questions/285670/gradient-versus-partial-derivatives)."
      ]
    },
    {
      "cell_type": "markdown",
      "metadata": {
        "id": "eRUeBJfHlI0D"
      },
      "source": [
        "We want to know how much changing each variable will affect the output of `L`. We will store those partial derivatives inside each `grad` variable of each `Value` object."
      ]
    },
    {
      "cell_type": "code",
      "execution_count": 37,
      "metadata": {
        "id": "iBsFY8kBpk7m"
      },
      "outputs": [],
      "source": [
        "L.grad = 1.0"
      ]
    },
    {
      "cell_type": "markdown",
      "metadata": {
        "id": "oH-sFWIPppir"
      },
      "source": [
        "The derivative of a variable with respect to itself is 1 (you get the same dx/dy)."
      ]
    },
    {
      "cell_type": "code",
      "execution_count": 38,
      "metadata": {
        "id": "pRM_bdtapwp0"
      },
      "outputs": [],
      "source": [
        "f = lambda x: x\n",
        "h = 1e-5\n",
        "pdx = (f(x + h) - f(x)) / h\n",
        "assert round(pdx) == 1"
      ]
    },
    {
      "cell_type": "markdown",
      "metadata": {
        "id": "yVHFyPpTre1Q"
      },
      "source": [
        "Now let's see how changing other variables will affect the eventual result."
      ]
    },
    {
      "cell_type": "code",
      "execution_count": 39,
      "metadata": {
        "id": "c6x337Yoml22"
      },
      "outputs": [],
      "source": [
        "def f(ha=0, hb=0, hc=0, hd=0):\n",
        "  # same function as before\n",
        "  a = Value(5 + ha, label='a')\n",
        "  b = Value(3 + hb, label='b')\n",
        "  c = a + b + Value(hc); c.label = 'c'\n",
        "  d = Value(10 + hd, label='d')\n",
        "  L = c * d; L.label = 'L'\n",
        "  return L.data"
      ]
    },
    {
      "cell_type": "code",
      "execution_count": 40,
      "metadata": {
        "colab": {
          "base_uri": "https://localhost:8080/"
        },
        "id": "GD7ANr_ytAY9",
        "outputId": "1a175289-5b28-40c4-dcfd-3e998e7ee28f"
      },
      "outputs": [
        {
          "data": {
            "text/plain": [
              "7.999999999697137"
            ]
          },
          "execution_count": 40,
          "metadata": {},
          "output_type": "execute_result"
        }
      ],
      "source": [
        "h = 1e-5\n",
        "(f(hd=h) - f()) / h"
      ]
    },
    {
      "cell_type": "markdown",
      "metadata": {
        "id": "FU3oPuQrtSSz"
      },
      "source": [
        "From the computational graph we can also see that `L=c*d`. When we change the value of d just a little bit (derivative of `L` with respect to `d`) the value of `L` will change by the amount of `c`, which is `8.0`. We saw it above in the partial derivative of a multiplication."
      ]
    },
    {
      "cell_type": "code",
      "execution_count": 41,
      "metadata": {
        "id": "oHZDEGaxuN11"
      },
      "outputs": [],
      "source": [
        "d.grad = c.data\n",
        "c.grad = d.data"
      ]
    },
    {
      "cell_type": "markdown",
      "metadata": {
        "id": "JIjVrxFjuwXa"
      },
      "source": [
        "With the same logic, the derivative of `L` wrt `c` will be the value of `d`, which is `10.0`. We can verify it."
      ]
    },
    {
      "cell_type": "code",
      "execution_count": 42,
      "metadata": {
        "colab": {
          "base_uri": "https://localhost:8080/"
        },
        "id": "qVhDFMDls_ln",
        "outputId": "aa732c95-aa05-47eb-9fe7-c0db727ca6c1"
      },
      "outputs": [
        {
          "data": {
            "text/plain": [
              "10.000000000331966"
            ]
          },
          "execution_count": 42,
          "metadata": {},
          "output_type": "execute_result"
        }
      ],
      "source": [
        "(f(hc=h) - f()) / h"
      ]
    },
    {
      "cell_type": "markdown",
      "metadata": {
        "id": "2JjzURHxvaSK"
      },
      "source": [
        "## Chain Rule"
      ]
    },
    {
      "cell_type": "markdown",
      "metadata": {
        "id": "QQfXOH9Ewxlc"
      },
      "source": [
        "To determine how much changing earlier variables in the computation graph will affect the `L` variable, we can apply the [chain rule](https://en.wikipedia.org/wiki/Chain_rule). Simply, the derivative of `L` with respect to `a` is the derivative of `c` with respect to `a` multiplied by the derivative of `L` with respect to `c`. God bless Leibniz.\n",
        "\n",
        "![image.png](https://wikimedia.org/api/rest_v1/media/math/render/svg/e1a610aa8446be002e2e30d7121f6a87273d4caa)"
      ]
    },
    {
      "cell_type": "markdown",
      "metadata": {
        "id": "HWP73t_gz8Xj"
      },
      "source": [
        "The derivate of `c` both wrt `a` and 'b' is `1` due to the property of addition shown before (`c=a+b`). From here:"
      ]
    },
    {
      "cell_type": "code",
      "execution_count": 43,
      "metadata": {
        "colab": {
          "base_uri": "https://localhost:8080/"
        },
        "id": "9w0KmRCnz6ZP",
        "outputId": "00f4113e-72f3-421f-88f2-54eadcff4d32"
      },
      "outputs": [
        {
          "data": {
            "text/plain": [
              "(10.0, 10.0)"
            ]
          },
          "execution_count": 43,
          "metadata": {},
          "output_type": "execute_result"
        }
      ],
      "source": [
        "a.grad = 1.0 * c.grad\n",
        "b.grad = 1.0 * c.grad\n",
        "\n",
        "a.grad, b.grad"
      ]
    },
    {
      "cell_type": "markdown",
      "metadata": {
        "id": "yaSszQxr1IOT"
      },
      "source": [
        "We can verify it as well. Let's see how much `L` gets affected, when we shift `a` or `b` by a small amount."
      ]
    },
    {
      "cell_type": "code",
      "execution_count": 44,
      "metadata": {
        "colab": {
          "base_uri": "https://localhost:8080/"
        },
        "id": "tBrH1MM1JgaW",
        "outputId": "e130cf0d-c5e9-4896-c62d-b8323f22f854"
      },
      "outputs": [
        {
          "data": {
            "text/plain": [
              "10.000000000331966"
            ]
          },
          "execution_count": 44,
          "metadata": {},
          "output_type": "execute_result"
        }
      ],
      "source": [
        "(f(ha=h) - f()) / h"
      ]
    },
    {
      "cell_type": "code",
      "execution_count": 45,
      "metadata": {
        "colab": {
          "base_uri": "https://localhost:8080/"
        },
        "id": "tGczB2u6rkP7",
        "outputId": "400b4d35-db9d-41a5-f432-a944d64703a8"
      },
      "outputs": [
        {
          "data": {
            "text/plain": [
              "10.000000000331966"
            ]
          },
          "execution_count": 45,
          "metadata": {},
          "output_type": "execute_result"
        }
      ],
      "source": [
        "(f(hb=h) - f()) / h"
      ]
    },
    {
      "cell_type": "markdown",
      "metadata": {
        "id": "5fL02zWq1ly7"
      },
      "source": [
        "We will finally redraw the manually updated computation graph."
      ]
    },
    {
      "cell_type": "code",
      "execution_count": 46,
      "metadata": {
        "colab": {
          "base_uri": "https://localhost:8080/",
          "height": 191
        },
        "id": "8O6AnZtctBVB",
        "outputId": "aaf0276c-4acb-49f8-edd7-71a059522ebf"
      },
      "outputs": [
        {
          "data": {
            "image/svg+xml": [
              "<?xml version=\"1.0\" encoding=\"UTF-8\" standalone=\"no\"?>\n",
              "<!DOCTYPE svg PUBLIC \"-//W3C//DTD SVG 1.1//EN\"\n",
              " \"http://www.w3.org/Graphics/SVG/1.1/DTD/svg11.dtd\">\n",
              "<!-- Generated by graphviz version 2.43.0 (0)\n",
              " -->\n",
              "<!-- Title: %3 Pages: 1 -->\n",
              "<svg width=\"798pt\" height=\"127pt\"\n",
              " viewBox=\"0.00 0.00 798.00 127.00\" xmlns=\"http://www.w3.org/2000/svg\" xmlns:xlink=\"http://www.w3.org/1999/xlink\">\n",
              "<g id=\"graph0\" class=\"graph\" transform=\"scale(1 1) rotate(0) translate(4 123)\">\n",
              "<title>%3</title>\n",
              "<polygon fill=\"white\" stroke=\"transparent\" points=\"-4,4 -4,-123 794,-123 794,4 -4,4\"/>\n",
              "<!-- 139776869969040 -->\n",
              "<g id=\"node1\" class=\"node\">\n",
              "<title>139776869969040</title>\n",
              "<polygon fill=\"none\" stroke=\"black\" points=\"305.5,-82.5 305.5,-118.5 483.5,-118.5 483.5,-82.5 305.5,-82.5\"/>\n",
              "<text text-anchor=\"middle\" x=\"317\" y=\"-96.8\" font-family=\"Times,serif\" font-size=\"14.00\">d</text>\n",
              "<polyline fill=\"none\" stroke=\"black\" points=\"328.5,-82.5 328.5,-118.5 \"/>\n",
              "<text text-anchor=\"middle\" x=\"368.5\" y=\"-96.8\" font-family=\"Times,serif\" font-size=\"14.00\">data 10.000</text>\n",
              "<polyline fill=\"none\" stroke=\"black\" points=\"408.5,-82.5 408.5,-118.5 \"/>\n",
              "<text text-anchor=\"middle\" x=\"446\" y=\"-96.8\" font-family=\"Times,serif\" font-size=\"14.00\">grad 8.000</text>\n",
              "</g>\n",
              "<!-- 139776869964688* -->\n",
              "<g id=\"node6\" class=\"node\">\n",
              "<title>139776869964688*</title>\n",
              "<ellipse fill=\"none\" stroke=\"black\" cx=\"547\" cy=\"-72.5\" rx=\"27\" ry=\"18\"/>\n",
              "<text text-anchor=\"middle\" x=\"547\" y=\"-68.8\" font-family=\"Times,serif\" font-size=\"14.00\">*</text>\n",
              "</g>\n",
              "<!-- 139776869969040&#45;&gt;139776869964688* -->\n",
              "<g id=\"edge3\" class=\"edge\">\n",
              "<title>139776869969040&#45;&gt;139776869964688*</title>\n",
              "<path fill=\"none\" stroke=\"black\" d=\"M483.92,-84.05C493.36,-82.29 502.53,-80.59 510.78,-79.05\"/>\n",
              "<polygon fill=\"black\" stroke=\"black\" points=\"511.52,-82.48 520.71,-77.21 510.23,-75.59 511.52,-82.48\"/>\n",
              "</g>\n",
              "<!-- 139776878798544 -->\n",
              "<g id=\"node2\" class=\"node\">\n",
              "<title>139776878798544</title>\n",
              "<polygon fill=\"none\" stroke=\"black\" points=\"305,-27.5 305,-63.5 484,-63.5 484,-27.5 305,-27.5\"/>\n",
              "<text text-anchor=\"middle\" x=\"316.5\" y=\"-41.8\" font-family=\"Times,serif\" font-size=\"14.00\">c</text>\n",
              "<polyline fill=\"none\" stroke=\"black\" points=\"328,-27.5 328,-63.5 \"/>\n",
              "<text text-anchor=\"middle\" x=\"365\" y=\"-41.8\" font-family=\"Times,serif\" font-size=\"14.00\">data 8.000</text>\n",
              "<polyline fill=\"none\" stroke=\"black\" points=\"402,-27.5 402,-63.5 \"/>\n",
              "<text text-anchor=\"middle\" x=\"443\" y=\"-41.8\" font-family=\"Times,serif\" font-size=\"14.00\">grad 10.000</text>\n",
              "</g>\n",
              "<!-- 139776878798544&#45;&gt;139776869964688* -->\n",
              "<g id=\"edge4\" class=\"edge\">\n",
              "<title>139776878798544&#45;&gt;139776869964688*</title>\n",
              "<path fill=\"none\" stroke=\"black\" d=\"M484.35,-61.44C493.56,-63.09 502.48,-64.69 510.55,-66.14\"/>\n",
              "<polygon fill=\"black\" stroke=\"black\" points=\"510.15,-69.62 520.61,-67.94 511.38,-62.73 510.15,-69.62\"/>\n",
              "</g>\n",
              "<!-- 139776878798544+ -->\n",
              "<g id=\"node3\" class=\"node\">\n",
              "<title>139776878798544+</title>\n",
              "<ellipse fill=\"none\" stroke=\"black\" cx=\"242\" cy=\"-45.5\" rx=\"27\" ry=\"18\"/>\n",
              "<text text-anchor=\"middle\" x=\"242\" y=\"-41.8\" font-family=\"Times,serif\" font-size=\"14.00\">+</text>\n",
              "</g>\n",
              "<!-- 139776878798544+&#45;&gt;139776878798544 -->\n",
              "<g id=\"edge1\" class=\"edge\">\n",
              "<title>139776878798544+&#45;&gt;139776878798544</title>\n",
              "<path fill=\"none\" stroke=\"black\" d=\"M269.22,-45.5C276.76,-45.5 285.47,-45.5 294.71,-45.5\"/>\n",
              "<polygon fill=\"black\" stroke=\"black\" points=\"294.91,-49 304.91,-45.5 294.91,-42 294.91,-49\"/>\n",
              "</g>\n",
              "<!-- 139776869963600 -->\n",
              "<g id=\"node4\" class=\"node\">\n",
              "<title>139776869963600</title>\n",
              "<polygon fill=\"none\" stroke=\"black\" points=\"0,-55.5 0,-91.5 179,-91.5 179,-55.5 0,-55.5\"/>\n",
              "<text text-anchor=\"middle\" x=\"11.5\" y=\"-69.8\" font-family=\"Times,serif\" font-size=\"14.00\">b</text>\n",
              "<polyline fill=\"none\" stroke=\"black\" points=\"23,-55.5 23,-91.5 \"/>\n",
              "<text text-anchor=\"middle\" x=\"60\" y=\"-69.8\" font-family=\"Times,serif\" font-size=\"14.00\">data 3.000</text>\n",
              "<polyline fill=\"none\" stroke=\"black\" points=\"97,-55.5 97,-91.5 \"/>\n",
              "<text text-anchor=\"middle\" x=\"138\" y=\"-69.8\" font-family=\"Times,serif\" font-size=\"14.00\">grad 10.000</text>\n",
              "</g>\n",
              "<!-- 139776869963600&#45;&gt;139776878798544+ -->\n",
              "<g id=\"edge6\" class=\"edge\">\n",
              "<title>139776869963600&#45;&gt;139776878798544+</title>\n",
              "<path fill=\"none\" stroke=\"black\" d=\"M179.35,-56.97C188.75,-55.22 197.85,-53.53 206.05,-52\"/>\n",
              "<polygon fill=\"black\" stroke=\"black\" points=\"206.72,-55.44 215.91,-50.17 205.43,-48.56 206.72,-55.44\"/>\n",
              "</g>\n",
              "<!-- 139776869964688 -->\n",
              "<g id=\"node5\" class=\"node\">\n",
              "<title>139776869964688</title>\n",
              "<polygon fill=\"none\" stroke=\"black\" points=\"610,-54.5 610,-90.5 790,-90.5 790,-54.5 610,-54.5\"/>\n",
              "<text text-anchor=\"middle\" x=\"622.5\" y=\"-68.8\" font-family=\"Times,serif\" font-size=\"14.00\">L</text>\n",
              "<polyline fill=\"none\" stroke=\"black\" points=\"635,-54.5 635,-90.5 \"/>\n",
              "<text text-anchor=\"middle\" x=\"675\" y=\"-68.8\" font-family=\"Times,serif\" font-size=\"14.00\">data 80.000</text>\n",
              "<polyline fill=\"none\" stroke=\"black\" points=\"715,-54.5 715,-90.5 \"/>\n",
              "<text text-anchor=\"middle\" x=\"752.5\" y=\"-68.8\" font-family=\"Times,serif\" font-size=\"14.00\">grad 1.000</text>\n",
              "</g>\n",
              "<!-- 139776869964688*&#45;&gt;139776869964688 -->\n",
              "<g id=\"edge2\" class=\"edge\">\n",
              "<title>139776869964688*&#45;&gt;139776869964688</title>\n",
              "<path fill=\"none\" stroke=\"black\" d=\"M574.3,-72.5C581.81,-72.5 590.47,-72.5 599.65,-72.5\"/>\n",
              "<polygon fill=\"black\" stroke=\"black\" points=\"599.79,-76 609.79,-72.5 599.79,-69 599.79,-76\"/>\n",
              "</g>\n",
              "<!-- 139776869958544 -->\n",
              "<g id=\"node7\" class=\"node\">\n",
              "<title>139776869958544</title>\n",
              "<polygon fill=\"none\" stroke=\"black\" points=\"0,-0.5 0,-36.5 179,-36.5 179,-0.5 0,-0.5\"/>\n",
              "<text text-anchor=\"middle\" x=\"11.5\" y=\"-14.8\" font-family=\"Times,serif\" font-size=\"14.00\">a</text>\n",
              "<polyline fill=\"none\" stroke=\"black\" points=\"23,-0.5 23,-36.5 \"/>\n",
              "<text text-anchor=\"middle\" x=\"60\" y=\"-14.8\" font-family=\"Times,serif\" font-size=\"14.00\">data 5.000</text>\n",
              "<polyline fill=\"none\" stroke=\"black\" points=\"97,-0.5 97,-36.5 \"/>\n",
              "<text text-anchor=\"middle\" x=\"138\" y=\"-14.8\" font-family=\"Times,serif\" font-size=\"14.00\">grad 10.000</text>\n",
              "</g>\n",
              "<!-- 139776869958544&#45;&gt;139776878798544+ -->\n",
              "<g id=\"edge5\" class=\"edge\">\n",
              "<title>139776869958544&#45;&gt;139776878798544+</title>\n",
              "<path fill=\"none\" stroke=\"black\" d=\"M179.35,-34.44C188.56,-36.09 197.48,-37.69 205.55,-39.14\"/>\n",
              "<polygon fill=\"black\" stroke=\"black\" points=\"205.15,-42.62 215.61,-40.94 206.38,-35.73 205.15,-42.62\"/>\n",
              "</g>\n",
              "</g>\n",
              "</svg>\n"
            ],
            "text/plain": [
              "<graphviz.graphs.Digraph at 0x7f2056ab1350>"
            ]
          },
          "execution_count": 46,
          "metadata": {},
          "output_type": "execute_result"
        }
      ],
      "source": [
        "draw_dot(L)"
      ]
    },
    {
      "cell_type": "markdown",
      "metadata": {
        "id": "9-3iqGfM2p4X"
      },
      "source": [
        "It basically implies that, for example, changing the value of `a` by `1` unit (from 5 to 6) will increase the value of `L` by `10` units (from 80 to 90)."
      ]
    },
    {
      "cell_type": "code",
      "execution_count": 47,
      "metadata": {
        "colab": {
          "base_uri": "https://localhost:8080/"
        },
        "id": "p6lNYfQQ2gPw",
        "outputId": "bbbb8858-2f09-40ac-f2e3-f25c68d6c42f"
      },
      "outputs": [
        {
          "data": {
            "text/plain": [
              "90"
            ]
          },
          "execution_count": 47,
          "metadata": {},
          "output_type": "execute_result"
        }
      ],
      "source": [
        "f(ha=1)"
      ]
    },
    {
      "cell_type": "code",
      "execution_count": 48,
      "metadata": {
        "colab": {
          "base_uri": "https://localhost:8080/"
        },
        "id": "ezZv5BB82g0Q",
        "outputId": "fd4ca3b8-68c0-41b0-9982-0a4edcaa304f"
      },
      "outputs": [
        {
          "data": {
            "text/plain": [
              "(90, 90, 88)"
            ]
          },
          "execution_count": 48,
          "metadata": {},
          "output_type": "execute_result"
        }
      ],
      "source": [
        "f(hb=1), f(hc=1), f(hd=1) # the rest of the cases"
      ]
    },
    {
      "cell_type": "markdown",
      "metadata": {
        "id": "8PY6RsCg5uPp"
      },
      "source": [
        "## Optimization with Gradient Descent"
      ]
    },
    {
      "cell_type": "markdown",
      "metadata": {
        "id": "ZgLGJtem51qr"
      },
      "source": [
        "What we saw above was one backward pass done manually. We are mainly interested in the signs of partial derivatives to know if they are positively or negatively influencing the eventual loss `L` of our model.\n",
        "\n",
        "In our case, we have to simply nudge the values in the opposite direction of the gradient to bring the loss down, as all the derivatives are positive and hence influencing loss positively. This is known as [gradient descent](https://en.wikipedia.org/wiki/Gradient_descent)."
      ]
    },
    {
      "cell_type": "code",
      "execution_count": 49,
      "metadata": {
        "id": "COpW_4NU585t"
      },
      "outputs": [],
      "source": [
        "lr = 0.01 # we will discuss learning rate later on\n",
        "\n",
        "a.data -= lr * a.grad\n",
        "b.data -= lr * b.grad\n",
        "d.data -= lr * d.grad\n",
        "\n",
        "# we skip c which is controlled by the values of a and b\n",
        "# pay attention that the rest are leaf nodes in the computation graph"
      ]
    },
    {
      "cell_type": "markdown",
      "metadata": {
        "id": "jYdzTg4X-6Gm"
      },
      "source": [
        "In case the loss is a negative value, we will need to \"gradient ascend\" the loss upwards towards the zero and change the sign to `+=` from `-=`. Note that the values of _parameters_ (a, b, d) can decrease or increase depending on the sign of `grad`. "
      ]
    },
    {
      "cell_type": "markdown",
      "metadata": {},
      "source": [
        "## Forward Pass"
      ]
    },
    {
      "cell_type": "markdown",
      "metadata": {
        "id": "jsNNuRG7-Akb"
      },
      "source": [
        "We will now do a single forward pass to see if loss has been decreased. Previous loss was `80`."
      ]
    },
    {
      "cell_type": "code",
      "execution_count": 50,
      "metadata": {
        "colab": {
          "base_uri": "https://localhost:8080/"
        },
        "id": "PqrjXw2F9pi9",
        "outputId": "629bf7de-3788-4f6e-9899-6d50c89fab7b"
      },
      "outputs": [
        {
          "data": {
            "text/plain": [
              "77.376"
            ]
          },
          "execution_count": 50,
          "metadata": {},
          "output_type": "execute_result"
        }
      ],
      "source": [
        "# We will now forward pass\n",
        "c = a + b\n",
        "L = c * d\n",
        "\n",
        "L.data"
      ]
    },
    {
      "cell_type": "markdown",
      "metadata": {
        "id": "MfmW6OwG-ZZ1"
      },
      "source": [
        "We optimized our values and brought down the loss."
      ]
    },
    {
      "cell_type": "markdown",
      "metadata": {
        "id": "ExJ9H0YOAR35"
      },
      "source": [
        "## Backward Pass"
      ]
    },
    {
      "cell_type": "markdown",
      "metadata": {
        "id": "GW6mjwRQAbLl"
      },
      "source": [
        "Manually calculating gradient is good only for educational purposes. We should implement automatic backward pass which will calculate gradients. We will rewrite our `Value` class for `backward()` function."
      ]
    },
    {
      "cell_type": "code",
      "execution_count": 51,
      "metadata": {
        "id": "NzCw1a9NAUPj"
      },
      "outputs": [],
      "source": [
        "class Value:\n",
        "  def __init__(self, data, _prev=(), _op='', label=''):\n",
        "    self.data = data\n",
        "    self._prev = _prev\n",
        "    self._op = _op\n",
        "    self.label = label\n",
        "    self.grad = 0.0\n",
        "    self._backward = lambda: None # initially it is a function which does nothing\n",
        "\n",
        "  def __add__(self, other):\n",
        "    data = self.data + other.data\n",
        "    out = Value(data, (self, other), '+')\n",
        "\n",
        "    def _backward():\n",
        "      self.grad = 1.0 * out.grad\n",
        "      other.grad = 1.0 * out.grad\n",
        "    out._backward = _backward\n",
        "\n",
        "    return out\n",
        "\n",
        "  def __mul__(self, other):\n",
        "    data = self.data * other.data\n",
        "    out = Value(data, (self, other), \"*\")\n",
        "\n",
        "    def _backward():\n",
        "      self.grad = other.data * out.grad\n",
        "      other.grad = self.data * out.grad\n",
        "    out._backward = _backward\n",
        "\n",
        "    return out\n",
        "\n",
        "  def __repr__(self):\n",
        "    return f\"Value(data={self.data}, grad={self.grad})\""
      ]
    },
    {
      "cell_type": "code",
      "execution_count": 52,
      "metadata": {
        "id": "-j5_G3poD2zF"
      },
      "outputs": [],
      "source": [
        "# Recreating the same function\n",
        "a = Value(5, label='a')\n",
        "b = Value(3, label='b')\n",
        "c = a + b; c.label = 'c'\n",
        "d = Value(10, label='d')\n",
        "L = c * d; L.label = 'L'"
      ]
    },
    {
      "cell_type": "code",
      "execution_count": 53,
      "metadata": {
        "colab": {
          "base_uri": "https://localhost:8080/",
          "height": 192
        },
        "id": "CB1Nk5QrEBV2",
        "outputId": "2b591b7d-637f-4b64-eabe-e873034a7f27"
      },
      "outputs": [
        {
          "data": {
            "image/svg+xml": [
              "<?xml version=\"1.0\" encoding=\"UTF-8\" standalone=\"no\"?>\n",
              "<!DOCTYPE svg PUBLIC \"-//W3C//DTD SVG 1.1//EN\"\n",
              " \"http://www.w3.org/Graphics/SVG/1.1/DTD/svg11.dtd\">\n",
              "<!-- Generated by graphviz version 2.43.0 (0)\n",
              " -->\n",
              "<!-- Title: %3 Pages: 1 -->\n",
              "<svg width=\"790pt\" height=\"128pt\"\n",
              " viewBox=\"0.00 0.00 790.00 128.00\" xmlns=\"http://www.w3.org/2000/svg\" xmlns:xlink=\"http://www.w3.org/1999/xlink\">\n",
              "<g id=\"graph0\" class=\"graph\" transform=\"scale(1 1) rotate(0) translate(4 124)\">\n",
              "<title>%3</title>\n",
              "<polygon fill=\"white\" stroke=\"transparent\" points=\"-4,4 -4,-124 786,-124 786,4 -4,4\"/>\n",
              "<!-- 139776869717520 -->\n",
              "<g id=\"node1\" class=\"node\">\n",
              "<title>139776869717520</title>\n",
              "<polygon fill=\"none\" stroke=\"black\" points=\"0,-83.5 0,-119.5 172,-119.5 172,-83.5 0,-83.5\"/>\n",
              "<text text-anchor=\"middle\" x=\"11.5\" y=\"-97.8\" font-family=\"Times,serif\" font-size=\"14.00\">b</text>\n",
              "<polyline fill=\"none\" stroke=\"black\" points=\"23,-83.5 23,-119.5 \"/>\n",
              "<text text-anchor=\"middle\" x=\"60\" y=\"-97.8\" font-family=\"Times,serif\" font-size=\"14.00\">data 3.000</text>\n",
              "<polyline fill=\"none\" stroke=\"black\" points=\"97,-83.5 97,-119.5 \"/>\n",
              "<text text-anchor=\"middle\" x=\"134.5\" y=\"-97.8\" font-family=\"Times,serif\" font-size=\"14.00\">grad 0.000</text>\n",
              "</g>\n",
              "<!-- 139776869794000+ -->\n",
              "<g id=\"node4\" class=\"node\">\n",
              "<title>139776869794000+</title>\n",
              "<ellipse fill=\"none\" stroke=\"black\" cx=\"235\" cy=\"-73.5\" rx=\"27\" ry=\"18\"/>\n",
              "<text text-anchor=\"middle\" x=\"235\" y=\"-69.8\" font-family=\"Times,serif\" font-size=\"14.00\">+</text>\n",
              "</g>\n",
              "<!-- 139776869717520&#45;&gt;139776869794000+ -->\n",
              "<g id=\"edge4\" class=\"edge\">\n",
              "<title>139776869717520&#45;&gt;139776869794000+</title>\n",
              "<path fill=\"none\" stroke=\"black\" d=\"M172.08,-85.29C181.46,-83.51 190.58,-81.77 198.81,-80.2\"/>\n",
              "<polygon fill=\"black\" stroke=\"black\" points=\"199.54,-83.63 208.7,-78.32 198.23,-76.75 199.54,-83.63\"/>\n",
              "</g>\n",
              "<!-- 139776869593232 -->\n",
              "<g id=\"node2\" class=\"node\">\n",
              "<title>139776869593232</title>\n",
              "<polygon fill=\"none\" stroke=\"black\" points=\"298,-0.5 298,-36.5 476,-36.5 476,-0.5 298,-0.5\"/>\n",
              "<text text-anchor=\"middle\" x=\"309.5\" y=\"-14.8\" font-family=\"Times,serif\" font-size=\"14.00\">d</text>\n",
              "<polyline fill=\"none\" stroke=\"black\" points=\"321,-0.5 321,-36.5 \"/>\n",
              "<text text-anchor=\"middle\" x=\"361\" y=\"-14.8\" font-family=\"Times,serif\" font-size=\"14.00\">data 10.000</text>\n",
              "<polyline fill=\"none\" stroke=\"black\" points=\"401,-0.5 401,-36.5 \"/>\n",
              "<text text-anchor=\"middle\" x=\"438.5\" y=\"-14.8\" font-family=\"Times,serif\" font-size=\"14.00\">grad 0.000</text>\n",
              "</g>\n",
              "<!-- 139776869592976* -->\n",
              "<g id=\"node7\" class=\"node\">\n",
              "<title>139776869592976*</title>\n",
              "<ellipse fill=\"none\" stroke=\"black\" cx=\"539\" cy=\"-45.5\" rx=\"27\" ry=\"18\"/>\n",
              "<text text-anchor=\"middle\" x=\"539\" y=\"-41.8\" font-family=\"Times,serif\" font-size=\"14.00\">*</text>\n",
              "</g>\n",
              "<!-- 139776869593232&#45;&gt;139776869592976* -->\n",
              "<g id=\"edge6\" class=\"edge\">\n",
              "<title>139776869593232&#45;&gt;139776869592976*</title>\n",
              "<path fill=\"none\" stroke=\"black\" d=\"M476.12,-34.36C485.54,-36.06 494.67,-37.7 502.9,-39.18\"/>\n",
              "<polygon fill=\"black\" stroke=\"black\" points=\"502.33,-42.64 512.79,-40.96 503.57,-35.75 502.33,-42.64\"/>\n",
              "</g>\n",
              "<!-- 139776869794000 -->\n",
              "<g id=\"node3\" class=\"node\">\n",
              "<title>139776869794000</title>\n",
              "<polygon fill=\"none\" stroke=\"black\" points=\"301,-55.5 301,-91.5 473,-91.5 473,-55.5 301,-55.5\"/>\n",
              "<text text-anchor=\"middle\" x=\"312.5\" y=\"-69.8\" font-family=\"Times,serif\" font-size=\"14.00\">c</text>\n",
              "<polyline fill=\"none\" stroke=\"black\" points=\"324,-55.5 324,-91.5 \"/>\n",
              "<text text-anchor=\"middle\" x=\"361\" y=\"-69.8\" font-family=\"Times,serif\" font-size=\"14.00\">data 8.000</text>\n",
              "<polyline fill=\"none\" stroke=\"black\" points=\"398,-55.5 398,-91.5 \"/>\n",
              "<text text-anchor=\"middle\" x=\"435.5\" y=\"-69.8\" font-family=\"Times,serif\" font-size=\"14.00\">grad 0.000</text>\n",
              "</g>\n",
              "<!-- 139776869794000&#45;&gt;139776869592976* -->\n",
              "<g id=\"edge5\" class=\"edge\">\n",
              "<title>139776869794000&#45;&gt;139776869592976*</title>\n",
              "<path fill=\"none\" stroke=\"black\" d=\"M473.08,-57.62C483.44,-55.68 493.54,-53.8 502.57,-52.11\"/>\n",
              "<polygon fill=\"black\" stroke=\"black\" points=\"503.44,-55.51 512.62,-50.24 502.15,-48.63 503.44,-55.51\"/>\n",
              "</g>\n",
              "<!-- 139776869794000+&#45;&gt;139776869794000 -->\n",
              "<g id=\"edge1\" class=\"edge\">\n",
              "<title>139776869794000+&#45;&gt;139776869794000</title>\n",
              "<path fill=\"none\" stroke=\"black\" d=\"M262.13,-73.5C270.52,-73.5 280.37,-73.5 290.77,-73.5\"/>\n",
              "<polygon fill=\"black\" stroke=\"black\" points=\"290.89,-77 300.89,-73.5 290.89,-70 290.89,-77\"/>\n",
              "</g>\n",
              "<!-- 139776869715280 -->\n",
              "<g id=\"node5\" class=\"node\">\n",
              "<title>139776869715280</title>\n",
              "<polygon fill=\"none\" stroke=\"black\" points=\"0,-28.5 0,-64.5 172,-64.5 172,-28.5 0,-28.5\"/>\n",
              "<text text-anchor=\"middle\" x=\"11.5\" y=\"-42.8\" font-family=\"Times,serif\" font-size=\"14.00\">a</text>\n",
              "<polyline fill=\"none\" stroke=\"black\" points=\"23,-28.5 23,-64.5 \"/>\n",
              "<text text-anchor=\"middle\" x=\"60\" y=\"-42.8\" font-family=\"Times,serif\" font-size=\"14.00\">data 5.000</text>\n",
              "<polyline fill=\"none\" stroke=\"black\" points=\"97,-28.5 97,-64.5 \"/>\n",
              "<text text-anchor=\"middle\" x=\"134.5\" y=\"-42.8\" font-family=\"Times,serif\" font-size=\"14.00\">grad 0.000</text>\n",
              "</g>\n",
              "<!-- 139776869715280&#45;&gt;139776869794000+ -->\n",
              "<g id=\"edge3\" class=\"edge\">\n",
              "<title>139776869715280&#45;&gt;139776869794000+</title>\n",
              "<path fill=\"none\" stroke=\"black\" d=\"M172.08,-62.13C181.46,-63.85 190.58,-65.52 198.81,-67.04\"/>\n",
              "<polygon fill=\"black\" stroke=\"black\" points=\"198.24,-70.49 208.7,-68.85 199.5,-63.6 198.24,-70.49\"/>\n",
              "</g>\n",
              "<!-- 139776869592976 -->\n",
              "<g id=\"node6\" class=\"node\">\n",
              "<title>139776869592976</title>\n",
              "<polygon fill=\"none\" stroke=\"black\" points=\"602,-27.5 602,-63.5 782,-63.5 782,-27.5 602,-27.5\"/>\n",
              "<text text-anchor=\"middle\" x=\"614.5\" y=\"-41.8\" font-family=\"Times,serif\" font-size=\"14.00\">L</text>\n",
              "<polyline fill=\"none\" stroke=\"black\" points=\"627,-27.5 627,-63.5 \"/>\n",
              "<text text-anchor=\"middle\" x=\"667\" y=\"-41.8\" font-family=\"Times,serif\" font-size=\"14.00\">data 80.000</text>\n",
              "<polyline fill=\"none\" stroke=\"black\" points=\"707,-27.5 707,-63.5 \"/>\n",
              "<text text-anchor=\"middle\" x=\"744.5\" y=\"-41.8\" font-family=\"Times,serif\" font-size=\"14.00\">grad 0.000</text>\n",
              "</g>\n",
              "<!-- 139776869592976*&#45;&gt;139776869592976 -->\n",
              "<g id=\"edge2\" class=\"edge\">\n",
              "<title>139776869592976*&#45;&gt;139776869592976</title>\n",
              "<path fill=\"none\" stroke=\"black\" d=\"M566.3,-45.5C573.81,-45.5 582.47,-45.5 591.65,-45.5\"/>\n",
              "<polygon fill=\"black\" stroke=\"black\" points=\"591.79,-49 601.79,-45.5 591.79,-42 591.79,-49\"/>\n",
              "</g>\n",
              "</g>\n",
              "</svg>\n"
            ],
            "text/plain": [
              "<graphviz.graphs.Digraph at 0x7f2056ae8f90>"
            ]
          },
          "execution_count": 53,
          "metadata": {},
          "output_type": "execute_result"
        }
      ],
      "source": [
        "draw_dot(L)"
      ]
    },
    {
      "cell_type": "markdown",
      "metadata": {
        "id": "Rq_kO6XPELu0"
      },
      "source": [
        "We will initialize the gradient of the loss to be 1.0 and then call backward function. We should get the same results which we manually calculated previously."
      ]
    },
    {
      "cell_type": "code",
      "execution_count": 54,
      "metadata": {
        "id": "qjSWZ6I-EDyL"
      },
      "outputs": [],
      "source": [
        "L.grad = 1.0\n",
        "L._backward()\n",
        "c._backward()"
      ]
    },
    {
      "cell_type": "code",
      "execution_count": 55,
      "metadata": {
        "colab": {
          "base_uri": "https://localhost:8080/",
          "height": 192
        },
        "id": "mVRYtmO4Eiu-",
        "outputId": "41fcddd4-0431-46fa-e2af-84dcc018e810"
      },
      "outputs": [
        {
          "data": {
            "image/svg+xml": [
              "<?xml version=\"1.0\" encoding=\"UTF-8\" standalone=\"no\"?>\n",
              "<!DOCTYPE svg PUBLIC \"-//W3C//DTD SVG 1.1//EN\"\n",
              " \"http://www.w3.org/Graphics/SVG/1.1/DTD/svg11.dtd\">\n",
              "<!-- Generated by graphviz version 2.43.0 (0)\n",
              " -->\n",
              "<!-- Title: %3 Pages: 1 -->\n",
              "<svg width=\"798pt\" height=\"128pt\"\n",
              " viewBox=\"0.00 0.00 798.00 128.00\" xmlns=\"http://www.w3.org/2000/svg\" xmlns:xlink=\"http://www.w3.org/1999/xlink\">\n",
              "<g id=\"graph0\" class=\"graph\" transform=\"scale(1 1) rotate(0) translate(4 124)\">\n",
              "<title>%3</title>\n",
              "<polygon fill=\"white\" stroke=\"transparent\" points=\"-4,4 -4,-124 794,-124 794,4 -4,4\"/>\n",
              "<!-- 139776869717520 -->\n",
              "<g id=\"node1\" class=\"node\">\n",
              "<title>139776869717520</title>\n",
              "<polygon fill=\"none\" stroke=\"black\" points=\"0,-83.5 0,-119.5 179,-119.5 179,-83.5 0,-83.5\"/>\n",
              "<text text-anchor=\"middle\" x=\"11.5\" y=\"-97.8\" font-family=\"Times,serif\" font-size=\"14.00\">b</text>\n",
              "<polyline fill=\"none\" stroke=\"black\" points=\"23,-83.5 23,-119.5 \"/>\n",
              "<text text-anchor=\"middle\" x=\"60\" y=\"-97.8\" font-family=\"Times,serif\" font-size=\"14.00\">data 3.000</text>\n",
              "<polyline fill=\"none\" stroke=\"black\" points=\"97,-83.5 97,-119.5 \"/>\n",
              "<text text-anchor=\"middle\" x=\"138\" y=\"-97.8\" font-family=\"Times,serif\" font-size=\"14.00\">grad 10.000</text>\n",
              "</g>\n",
              "<!-- 139776869794000+ -->\n",
              "<g id=\"node4\" class=\"node\">\n",
              "<title>139776869794000+</title>\n",
              "<ellipse fill=\"none\" stroke=\"black\" cx=\"242\" cy=\"-73.5\" rx=\"27\" ry=\"18\"/>\n",
              "<text text-anchor=\"middle\" x=\"242\" y=\"-69.8\" font-family=\"Times,serif\" font-size=\"14.00\">+</text>\n",
              "</g>\n",
              "<!-- 139776869717520&#45;&gt;139776869794000+ -->\n",
              "<g id=\"edge4\" class=\"edge\">\n",
              "<title>139776869717520&#45;&gt;139776869794000+</title>\n",
              "<path fill=\"none\" stroke=\"black\" d=\"M179.35,-84.97C188.75,-83.22 197.85,-81.53 206.05,-80\"/>\n",
              "<polygon fill=\"black\" stroke=\"black\" points=\"206.72,-83.44 215.91,-78.17 205.43,-76.56 206.72,-83.44\"/>\n",
              "</g>\n",
              "<!-- 139776869593232 -->\n",
              "<g id=\"node2\" class=\"node\">\n",
              "<title>139776869593232</title>\n",
              "<polygon fill=\"none\" stroke=\"black\" points=\"305.5,-0.5 305.5,-36.5 483.5,-36.5 483.5,-0.5 305.5,-0.5\"/>\n",
              "<text text-anchor=\"middle\" x=\"317\" y=\"-14.8\" font-family=\"Times,serif\" font-size=\"14.00\">d</text>\n",
              "<polyline fill=\"none\" stroke=\"black\" points=\"328.5,-0.5 328.5,-36.5 \"/>\n",
              "<text text-anchor=\"middle\" x=\"368.5\" y=\"-14.8\" font-family=\"Times,serif\" font-size=\"14.00\">data 10.000</text>\n",
              "<polyline fill=\"none\" stroke=\"black\" points=\"408.5,-0.5 408.5,-36.5 \"/>\n",
              "<text text-anchor=\"middle\" x=\"446\" y=\"-14.8\" font-family=\"Times,serif\" font-size=\"14.00\">grad 8.000</text>\n",
              "</g>\n",
              "<!-- 139776869592976* -->\n",
              "<g id=\"node7\" class=\"node\">\n",
              "<title>139776869592976*</title>\n",
              "<ellipse fill=\"none\" stroke=\"black\" cx=\"547\" cy=\"-45.5\" rx=\"27\" ry=\"18\"/>\n",
              "<text text-anchor=\"middle\" x=\"547\" y=\"-41.8\" font-family=\"Times,serif\" font-size=\"14.00\">*</text>\n",
              "</g>\n",
              "<!-- 139776869593232&#45;&gt;139776869592976* -->\n",
              "<g id=\"edge6\" class=\"edge\">\n",
              "<title>139776869593232&#45;&gt;139776869592976*</title>\n",
              "<path fill=\"none\" stroke=\"black\" d=\"M483.92,-34.36C493.36,-36.06 502.53,-37.7 510.78,-39.18\"/>\n",
              "<polygon fill=\"black\" stroke=\"black\" points=\"510.25,-42.64 520.71,-40.96 511.48,-35.75 510.25,-42.64\"/>\n",
              "</g>\n",
              "<!-- 139776869794000 -->\n",
              "<g id=\"node3\" class=\"node\">\n",
              "<title>139776869794000</title>\n",
              "<polygon fill=\"none\" stroke=\"black\" points=\"305,-55.5 305,-91.5 484,-91.5 484,-55.5 305,-55.5\"/>\n",
              "<text text-anchor=\"middle\" x=\"316.5\" y=\"-69.8\" font-family=\"Times,serif\" font-size=\"14.00\">c</text>\n",
              "<polyline fill=\"none\" stroke=\"black\" points=\"328,-55.5 328,-91.5 \"/>\n",
              "<text text-anchor=\"middle\" x=\"365\" y=\"-69.8\" font-family=\"Times,serif\" font-size=\"14.00\">data 8.000</text>\n",
              "<polyline fill=\"none\" stroke=\"black\" points=\"402,-55.5 402,-91.5 \"/>\n",
              "<text text-anchor=\"middle\" x=\"443\" y=\"-69.8\" font-family=\"Times,serif\" font-size=\"14.00\">grad 10.000</text>\n",
              "</g>\n",
              "<!-- 139776869794000&#45;&gt;139776869592976* -->\n",
              "<g id=\"edge5\" class=\"edge\">\n",
              "<title>139776869794000&#45;&gt;139776869592976*</title>\n",
              "<path fill=\"none\" stroke=\"black\" d=\"M484.35,-56.97C493.75,-55.22 502.85,-53.53 511.05,-52\"/>\n",
              "<polygon fill=\"black\" stroke=\"black\" points=\"511.72,-55.44 520.91,-50.17 510.43,-48.56 511.72,-55.44\"/>\n",
              "</g>\n",
              "<!-- 139776869794000+&#45;&gt;139776869794000 -->\n",
              "<g id=\"edge1\" class=\"edge\">\n",
              "<title>139776869794000+&#45;&gt;139776869794000</title>\n",
              "<path fill=\"none\" stroke=\"black\" d=\"M269.22,-73.5C276.76,-73.5 285.47,-73.5 294.71,-73.5\"/>\n",
              "<polygon fill=\"black\" stroke=\"black\" points=\"294.91,-77 304.91,-73.5 294.91,-70 294.91,-77\"/>\n",
              "</g>\n",
              "<!-- 139776869715280 -->\n",
              "<g id=\"node5\" class=\"node\">\n",
              "<title>139776869715280</title>\n",
              "<polygon fill=\"none\" stroke=\"black\" points=\"0,-28.5 0,-64.5 179,-64.5 179,-28.5 0,-28.5\"/>\n",
              "<text text-anchor=\"middle\" x=\"11.5\" y=\"-42.8\" font-family=\"Times,serif\" font-size=\"14.00\">a</text>\n",
              "<polyline fill=\"none\" stroke=\"black\" points=\"23,-28.5 23,-64.5 \"/>\n",
              "<text text-anchor=\"middle\" x=\"60\" y=\"-42.8\" font-family=\"Times,serif\" font-size=\"14.00\">data 5.000</text>\n",
              "<polyline fill=\"none\" stroke=\"black\" points=\"97,-28.5 97,-64.5 \"/>\n",
              "<text text-anchor=\"middle\" x=\"138\" y=\"-42.8\" font-family=\"Times,serif\" font-size=\"14.00\">grad 10.000</text>\n",
              "</g>\n",
              "<!-- 139776869715280&#45;&gt;139776869794000+ -->\n",
              "<g id=\"edge3\" class=\"edge\">\n",
              "<title>139776869715280&#45;&gt;139776869794000+</title>\n",
              "<path fill=\"none\" stroke=\"black\" d=\"M179.35,-62.44C188.56,-64.09 197.48,-65.69 205.55,-67.14\"/>\n",
              "<polygon fill=\"black\" stroke=\"black\" points=\"205.15,-70.62 215.61,-68.94 206.38,-63.73 205.15,-70.62\"/>\n",
              "</g>\n",
              "<!-- 139776869592976 -->\n",
              "<g id=\"node6\" class=\"node\">\n",
              "<title>139776869592976</title>\n",
              "<polygon fill=\"none\" stroke=\"black\" points=\"610,-27.5 610,-63.5 790,-63.5 790,-27.5 610,-27.5\"/>\n",
              "<text text-anchor=\"middle\" x=\"622.5\" y=\"-41.8\" font-family=\"Times,serif\" font-size=\"14.00\">L</text>\n",
              "<polyline fill=\"none\" stroke=\"black\" points=\"635,-27.5 635,-63.5 \"/>\n",
              "<text text-anchor=\"middle\" x=\"675\" y=\"-41.8\" font-family=\"Times,serif\" font-size=\"14.00\">data 80.000</text>\n",
              "<polyline fill=\"none\" stroke=\"black\" points=\"715,-27.5 715,-63.5 \"/>\n",
              "<text text-anchor=\"middle\" x=\"752.5\" y=\"-41.8\" font-family=\"Times,serif\" font-size=\"14.00\">grad 1.000</text>\n",
              "</g>\n",
              "<!-- 139776869592976*&#45;&gt;139776869592976 -->\n",
              "<g id=\"edge2\" class=\"edge\">\n",
              "<title>139776869592976*&#45;&gt;139776869592976</title>\n",
              "<path fill=\"none\" stroke=\"black\" d=\"M574.3,-45.5C581.81,-45.5 590.47,-45.5 599.65,-45.5\"/>\n",
              "<polygon fill=\"black\" stroke=\"black\" points=\"599.79,-49 609.79,-45.5 599.79,-42 599.79,-49\"/>\n",
              "</g>\n",
              "</g>\n",
              "</svg>\n"
            ],
            "text/plain": [
              "<graphviz.graphs.Digraph at 0x7f2057117a90>"
            ]
          },
          "execution_count": 55,
          "metadata": {},
          "output_type": "execute_result"
        }
      ],
      "source": [
        "draw_dot(L)"
      ]
    },
    {
      "cell_type": "markdown",
      "metadata": {
        "id": "g_FkqaRIHObi"
      },
      "source": [
        "**Exercise:** Make sure that all operations and their partial derivatives can be calculated (e.g. division, power)."
      ]
    },
    {
      "cell_type": "markdown",
      "metadata": {
        "id": "DNoliBPNKPs3"
      },
      "source": [
        "# Training Model with Backpropagation"
      ]
    },
    {
      "cell_type": "markdown",
      "metadata": {
        "id": "rzO_jk3KJPWs"
      },
      "source": [
        "We can now call the optimization process, as well as forward and backward passes to reduce loss. Training model with the help of backward pass, optimization, and forward pass is called [backpropagation](https://en.wikipedia.org/wiki/Backpropagation)."
      ]
    },
    {
      "cell_type": "code",
      "execution_count": 56,
      "metadata": {
        "colab": {
          "base_uri": "https://localhost:8080/"
        },
        "id": "csvUYTVbElCT",
        "outputId": "90a4fb70-6b35-451e-b07f-7466826bb7ca"
      },
      "outputs": [
        {
          "data": {
            "text/plain": [
              "77.376"
            ]
          },
          "execution_count": 56,
          "metadata": {},
          "output_type": "execute_result"
        }
      ],
      "source": [
        "# optimization\n",
        "lr = 0.01\n",
        "a.data -= lr * a.grad\n",
        "b.data -= lr * b.grad\n",
        "d.data -= lr * d.grad\n",
        "\n",
        "# forward pass\n",
        "c = a + b\n",
        "L = c * d\n",
        "\n",
        "# backward pass\n",
        "L.grad = 1.0\n",
        "L._backward()\n",
        "c._backward()\n",
        "\n",
        "L.data # loss"
      ]
    },
    {
      "cell_type": "markdown",
      "metadata": {
        "id": "IduNeP0cKEVd"
      },
      "source": [
        "We have now trained the model for a single `epoch`. Even though what we do is oversimplistic and not precise, the main intuition and concepts behind training a neural network is the same.\n",
        "\n",
        "We will train the model for multiple epochs until we reduce the loss down to zero."
      ]
    },
    {
      "cell_type": "code",
      "execution_count": 57,
      "metadata": {
        "colab": {
          "base_uri": "https://localhost:8080/"
        },
        "id": "FFpCd2qQJrkr",
        "outputId": "91f2242c-b95e-4570-fffa-482b6edd7d8c"
      },
      "outputs": [
        {
          "name": "stdout",
          "output_type": "stream",
          "text": [
            "Loss: 74.81\n",
            "Loss: 72.31\n",
            "Loss: 69.87\n",
            "Loss: 67.49\n",
            "Loss: 65.16\n",
            "Loss: 62.88\n",
            "Loss: 60.66\n",
            "Loss: 58.48\n",
            "Loss: 56.35\n",
            "Loss: 54.27\n",
            "Loss: 52.23\n",
            "Loss: 50.24\n",
            "Loss: 48.28\n",
            "Loss: 46.37\n",
            "Loss: 44.49\n",
            "Loss: 42.65\n",
            "Loss: 40.84\n",
            "Loss: 39.07\n",
            "Loss: 37.33\n",
            "Loss: 35.62\n",
            "Loss: 33.94\n",
            "Loss: 32.29\n",
            "Loss: 30.66\n",
            "Loss: 29.06\n",
            "Loss: 27.48\n",
            "Loss: 25.93\n",
            "Loss: 24.39\n",
            "Loss: 22.88\n",
            "Loss: 21.39\n",
            "Loss: 19.91\n",
            "Loss: 18.45\n",
            "Loss: 17.0\n",
            "Loss: 15.57\n",
            "Loss: 14.16\n",
            "Loss: 12.75\n",
            "Loss: 11.36\n",
            "Loss: 9.97\n",
            "Loss: 8.59\n",
            "Loss: 7.22\n",
            "Loss: 5.86\n",
            "Loss: 4.5\n",
            "Loss: 3.15\n",
            "Loss: 1.8\n",
            "Loss: 0.45\n"
          ]
        }
      ],
      "source": [
        "while True:\n",
        "  # optimization\n",
        "  a.data -= lr * a.grad\n",
        "  b.data -= lr * b.grad\n",
        "  d.data -= lr * d.grad\n",
        "\n",
        "  # forward pass\n",
        "  c = a + b\n",
        "  L = c * d\n",
        "\n",
        "  # backward pass\n",
        "  L.grad = 1.0\n",
        "  L._backward()\n",
        "  c._backward()\n",
        "\n",
        "  if L.data < 0:\n",
        "    break\n",
        "\n",
        "  print(f'Loss: {round(L.data,2)}')"
      ]
    },
    {
      "cell_type": "markdown",
      "metadata": {
        "id": "LWarDphyOZGf"
      },
      "source": [
        "# PyTorch Implementation"
      ]
    },
    {
      "cell_type": "markdown",
      "metadata": {
        "id": "QqlXzzH3ObX7"
      },
      "source": [
        "All we did manually is built in to PyTorch. We will do a forward and backward pass and check if the gradients are what we had previosuly calculated. As gradients are not always calculated, for optimization purposes `requires_grad` is set to False by default. We cannot also calculate gradient for leaf nodes."
      ]
    },
    {
      "cell_type": "code",
      "execution_count": 58,
      "metadata": {
        "id": "mtGu--l6NPsE"
      },
      "outputs": [],
      "source": [
        "import torch\n",
        "\n",
        "a = torch.tensor(5.0);    a.requires_grad = True\n",
        "b = torch.tensor(3.0);    b.requires_grad = True\n",
        "c = a + b\n",
        "d = torch.tensor(10.0);   d.requires_grad = True\n",
        "L = c * d"
      ]
    },
    {
      "cell_type": "code",
      "execution_count": 59,
      "metadata": {
        "id": "kCfASLIxPPW8"
      },
      "outputs": [],
      "source": [
        "L.backward()"
      ]
    },
    {
      "cell_type": "code",
      "execution_count": 60,
      "metadata": {
        "colab": {
          "base_uri": "https://localhost:8080/"
        },
        "id": "2OTlgIQaQeRJ",
        "outputId": "db42dc7a-83d3-4b59-cd91-5d1398ede014"
      },
      "outputs": [
        {
          "data": {
            "text/plain": [
              "(tensor(10.), tensor(10.), tensor(8.))"
            ]
          },
          "execution_count": 60,
          "metadata": {},
          "output_type": "execute_result"
        }
      ],
      "source": [
        "a.grad, b.grad, d.grad"
      ]
    },
    {
      "cell_type": "markdown",
      "metadata": {
        "id": "majsJxI0PBPY"
      },
      "source": [
        "We got the expected result."
      ]
    }
  ],
  "metadata": {
    "colab": {
      "collapsed_sections": [
        "b4U6EydyWp64"
      ],
      "provenance": []
    },
    "kernelspec": {
      "display_name": "Python 3",
      "name": "python3"
    },
    "language_info": {
      "name": "python"
    }
  },
  "nbformat": 4,
  "nbformat_minor": 0
}
